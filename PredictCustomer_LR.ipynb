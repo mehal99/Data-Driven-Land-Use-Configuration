{
 "cells": [
  {
   "cell_type": "code",
   "execution_count": 1,
   "metadata": {},
   "outputs": [],
   "source": [
    "# Import library\n",
    "import pandas  as pd #Data manipulation\n",
    "import numpy as np #Data manipulation\n",
    "import matplotlib.pyplot as plt # Visualization\n",
    "import seaborn as sns #Visualization\n",
    "plt.rcParams['figure.figsize'] = [8,5]\n",
    "plt.rcParams['font.size'] =14\n",
    "plt.rcParams['font.weight']= 'bold'\n",
    "plt.style.use('seaborn-whitegrid')\n",
    "\n",
    "%matplotlib inline"
   ]
  },
  {
   "cell_type": "code",
   "execution_count": 2,
   "metadata": {},
   "outputs": [
    {
     "data": {
      "text/html": [
       "<div>\n",
       "<style scoped>\n",
       "    .dataframe tbody tr th:only-of-type {\n",
       "        vertical-align: middle;\n",
       "    }\n",
       "\n",
       "    .dataframe tbody tr th {\n",
       "        vertical-align: top;\n",
       "    }\n",
       "\n",
       "    .dataframe thead th {\n",
       "        text-align: right;\n",
       "    }\n",
       "</style>\n",
       "<table border=\"1\" class=\"dataframe\">\n",
       "  <thead>\n",
       "    <tr style=\"text-align: right;\">\n",
       "      <th></th>\n",
       "      <th>Unnamed: 0</th>\n",
       "      <th>place_name</th>\n",
       "      <th>place_ID</th>\n",
       "      <th>latitude</th>\n",
       "      <th>Longitude</th>\n",
       "      <th>plus_code</th>\n",
       "      <th>rating</th>\n",
       "      <th>user_ratings_total</th>\n",
       "      <th>business_status</th>\n",
       "      <th>types</th>\n",
       "      <th>address</th>\n",
       "    </tr>\n",
       "  </thead>\n",
       "  <tbody>\n",
       "    <tr>\n",
       "      <td>0</td>\n",
       "      <td>0</td>\n",
       "      <td>NTU North Spine Plaza</td>\n",
       "      <td>ChIJ-f-vxgoP2jERP42l8kUV8DE</td>\n",
       "      <td>1.347064</td>\n",
       "      <td>103.680822</td>\n",
       "      <td>8MWJ+R8 Singapore</td>\n",
       "      <td>4.3</td>\n",
       "      <td>1070</td>\n",
       "      <td>OPERATIONAL</td>\n",
       "      <td>shopping_mall</td>\n",
       "      <td>76 Nanyang Dr, Singapore 637331</td>\n",
       "    </tr>\n",
       "    <tr>\n",
       "      <td>1</td>\n",
       "      <td>1</td>\n",
       "      <td>Orchard Towers</td>\n",
       "      <td>ChIJ-z0z0IwZ2jERXjOtNGbV0-0</td>\n",
       "      <td>1.307229</td>\n",
       "      <td>103.829332</td>\n",
       "      <td>8R4H+VP Singapore</td>\n",
       "      <td>3.9</td>\n",
       "      <td>2292</td>\n",
       "      <td>OPERATIONAL</td>\n",
       "      <td>shopping_mall</td>\n",
       "      <td>400 Orchard Rd, Singapore 238875</td>\n",
       "    </tr>\n",
       "    <tr>\n",
       "      <td>2</td>\n",
       "      <td>2</td>\n",
       "      <td>Quayside Isle</td>\n",
       "      <td>ChIJ01fgzLUe2jERxlhvImcbZ7g</td>\n",
       "      <td>1.247681</td>\n",
       "      <td>103.842072</td>\n",
       "      <td>6RXR+3R Singapore</td>\n",
       "      <td>4.3</td>\n",
       "      <td>568</td>\n",
       "      <td>OPERATIONAL</td>\n",
       "      <td>shopping_mall</td>\n",
       "      <td>31 Ocean Way, Singapore 098375</td>\n",
       "    </tr>\n",
       "    <tr>\n",
       "      <td>3</td>\n",
       "      <td>3</td>\n",
       "      <td>Coronation Shopping Plaza</td>\n",
       "      <td>ChIJ08duKAYa2jER47-5U4ZdgAo</td>\n",
       "      <td>1.323919</td>\n",
       "      <td>103.809989</td>\n",
       "      <td>8RF5+HX Singapore</td>\n",
       "      <td>3.6</td>\n",
       "      <td>202</td>\n",
       "      <td>OPERATIONAL</td>\n",
       "      <td>shopping_mall</td>\n",
       "      <td>587 Bukit Timah Rd, Singapore 269707</td>\n",
       "    </tr>\n",
       "    <tr>\n",
       "      <td>4</td>\n",
       "      <td>4</td>\n",
       "      <td>Hougang 1</td>\n",
       "      <td>ChIJ0ZkQLVsW2jERY9DgZurtpl8</td>\n",
       "      <td>1.376061</td>\n",
       "      <td>103.879155</td>\n",
       "      <td>9VGH+CM Singapore</td>\n",
       "      <td>3.9</td>\n",
       "      <td>2183</td>\n",
       "      <td>OPERATIONAL</td>\n",
       "      <td>shopping_mall</td>\n",
       "      <td>1 Hougang Street 91, Singapore 538692</td>\n",
       "    </tr>\n",
       "  </tbody>\n",
       "</table>\n",
       "</div>"
      ],
      "text/plain": [
       "   Unnamed: 0                 place_name                     place_ID  \\\n",
       "0           0      NTU North Spine Plaza  ChIJ-f-vxgoP2jERP42l8kUV8DE   \n",
       "1           1             Orchard Towers  ChIJ-z0z0IwZ2jERXjOtNGbV0-0   \n",
       "2           2              Quayside Isle  ChIJ01fgzLUe2jERxlhvImcbZ7g   \n",
       "3           3  Coronation Shopping Plaza  ChIJ08duKAYa2jER47-5U4ZdgAo   \n",
       "4           4                  Hougang 1  ChIJ0ZkQLVsW2jERY9DgZurtpl8   \n",
       "\n",
       "   latitude   Longitude          plus_code  rating  user_ratings_total  \\\n",
       "0  1.347064  103.680822  8MWJ+R8 Singapore     4.3                1070   \n",
       "1  1.307229  103.829332  8R4H+VP Singapore     3.9                2292   \n",
       "2  1.247681  103.842072  6RXR+3R Singapore     4.3                 568   \n",
       "3  1.323919  103.809989  8RF5+HX Singapore     3.6                 202   \n",
       "4  1.376061  103.879155  9VGH+CM Singapore     3.9                2183   \n",
       "\n",
       "  business_status          types                                address  \n",
       "0     OPERATIONAL  shopping_mall        76 Nanyang Dr, Singapore 637331  \n",
       "1     OPERATIONAL  shopping_mall       400 Orchard Rd, Singapore 238875  \n",
       "2     OPERATIONAL  shopping_mall         31 Ocean Way, Singapore 098375  \n",
       "3     OPERATIONAL  shopping_mall   587 Bukit Timah Rd, Singapore 269707  \n",
       "4     OPERATIONAL  shopping_mall  1 Hougang Street 91, Singapore 538692  "
      ]
     },
     "execution_count": 2,
     "metadata": {},
     "output_type": "execute_result"
    }
   ],
   "source": [
    "build = pd.read_csv(r\"C:\\Users\\jieun_ng\\Documents\\DIP\\Data_clean.csv\")\n",
    "build.head()"
   ]
  },
  {
   "cell_type": "code",
   "execution_count": 3,
   "metadata": {},
   "outputs": [
    {
     "name": "stdout",
     "output_type": "stream",
     "text": [
      "<class 'pandas.core.frame.DataFrame'>\n",
      "RangeIndex: 331 entries, 0 to 330\n",
      "Data columns (total 11 columns):\n",
      "Unnamed: 0            331 non-null int64\n",
      "place_name            331 non-null object\n",
      "place_ID              331 non-null object\n",
      "latitude              331 non-null float64\n",
      "Longitude             331 non-null float64\n",
      "plus_code             331 non-null object\n",
      "rating                331 non-null float64\n",
      "user_ratings_total    331 non-null int64\n",
      "business_status       331 non-null object\n",
      "types                 331 non-null object\n",
      "address               331 non-null object\n",
      "dtypes: float64(3), int64(2), object(6)\n",
      "memory usage: 28.6+ KB\n"
     ]
    }
   ],
   "source": [
    "build.info()"
   ]
  },
  {
   "cell_type": "code",
   "execution_count": 4,
   "metadata": {},
   "outputs": [
    {
     "data": {
      "text/html": [
       "<div>\n",
       "<style scoped>\n",
       "    .dataframe tbody tr th:only-of-type {\n",
       "        vertical-align: middle;\n",
       "    }\n",
       "\n",
       "    .dataframe tbody tr th {\n",
       "        vertical-align: top;\n",
       "    }\n",
       "\n",
       "    .dataframe thead th {\n",
       "        text-align: right;\n",
       "    }\n",
       "</style>\n",
       "<table border=\"1\" class=\"dataframe\">\n",
       "  <thead>\n",
       "    <tr style=\"text-align: right;\">\n",
       "      <th></th>\n",
       "      <th>Unnamed: 0</th>\n",
       "      <th>place_name</th>\n",
       "      <th>place_ID</th>\n",
       "      <th>latitude</th>\n",
       "      <th>Longitude</th>\n",
       "      <th>plus_code</th>\n",
       "      <th>rating</th>\n",
       "      <th>user_ratings_total</th>\n",
       "      <th>business_status</th>\n",
       "      <th>types</th>\n",
       "      <th>address</th>\n",
       "      <th>customer</th>\n",
       "    </tr>\n",
       "  </thead>\n",
       "  <tbody>\n",
       "    <tr>\n",
       "      <td>0</td>\n",
       "      <td>0</td>\n",
       "      <td>NTU North Spine Plaza</td>\n",
       "      <td>ChIJ-f-vxgoP2jERP42l8kUV8DE</td>\n",
       "      <td>1.347064</td>\n",
       "      <td>103.680822</td>\n",
       "      <td>8MWJ+R8 Singapore</td>\n",
       "      <td>4.3</td>\n",
       "      <td>1070</td>\n",
       "      <td>OPERATIONAL</td>\n",
       "      <td>shopping_mall</td>\n",
       "      <td>76 Nanyang Dr, Singapore 637331</td>\n",
       "      <td>17</td>\n",
       "    </tr>\n",
       "    <tr>\n",
       "      <td>1</td>\n",
       "      <td>1</td>\n",
       "      <td>Orchard Towers</td>\n",
       "      <td>ChIJ-z0z0IwZ2jERXjOtNGbV0-0</td>\n",
       "      <td>1.307229</td>\n",
       "      <td>103.829332</td>\n",
       "      <td>8R4H+VP Singapore</td>\n",
       "      <td>3.9</td>\n",
       "      <td>2292</td>\n",
       "      <td>OPERATIONAL</td>\n",
       "      <td>shopping_mall</td>\n",
       "      <td>400 Orchard Rd, Singapore 238875</td>\n",
       "      <td>135</td>\n",
       "    </tr>\n",
       "    <tr>\n",
       "      <td>2</td>\n",
       "      <td>2</td>\n",
       "      <td>Quayside Isle</td>\n",
       "      <td>ChIJ01fgzLUe2jERxlhvImcbZ7g</td>\n",
       "      <td>1.247681</td>\n",
       "      <td>103.842072</td>\n",
       "      <td>6RXR+3R Singapore</td>\n",
       "      <td>4.3</td>\n",
       "      <td>568</td>\n",
       "      <td>OPERATIONAL</td>\n",
       "      <td>shopping_mall</td>\n",
       "      <td>31 Ocean Way, Singapore 098375</td>\n",
       "      <td>619</td>\n",
       "    </tr>\n",
       "    <tr>\n",
       "      <td>3</td>\n",
       "      <td>3</td>\n",
       "      <td>Coronation Shopping Plaza</td>\n",
       "      <td>ChIJ08duKAYa2jER47-5U4ZdgAo</td>\n",
       "      <td>1.323919</td>\n",
       "      <td>103.809989</td>\n",
       "      <td>8RF5+HX Singapore</td>\n",
       "      <td>3.6</td>\n",
       "      <td>202</td>\n",
       "      <td>OPERATIONAL</td>\n",
       "      <td>shopping_mall</td>\n",
       "      <td>587 Bukit Timah Rd, Singapore 269707</td>\n",
       "      <td>892</td>\n",
       "    </tr>\n",
       "    <tr>\n",
       "      <td>4</td>\n",
       "      <td>4</td>\n",
       "      <td>Hougang 1</td>\n",
       "      <td>ChIJ0ZkQLVsW2jERY9DgZurtpl8</td>\n",
       "      <td>1.376061</td>\n",
       "      <td>103.879155</td>\n",
       "      <td>9VGH+CM Singapore</td>\n",
       "      <td>3.9</td>\n",
       "      <td>2183</td>\n",
       "      <td>OPERATIONAL</td>\n",
       "      <td>shopping_mall</td>\n",
       "      <td>1 Hougang Street 91, Singapore 538692</td>\n",
       "      <td>887</td>\n",
       "    </tr>\n",
       "    <tr>\n",
       "      <td>...</td>\n",
       "      <td>...</td>\n",
       "      <td>...</td>\n",
       "      <td>...</td>\n",
       "      <td>...</td>\n",
       "      <td>...</td>\n",
       "      <td>...</td>\n",
       "      <td>...</td>\n",
       "      <td>...</td>\n",
       "      <td>...</td>\n",
       "      <td>...</td>\n",
       "      <td>...</td>\n",
       "      <td>...</td>\n",
       "    </tr>\n",
       "    <tr>\n",
       "      <td>326</td>\n",
       "      <td>326</td>\n",
       "      <td>The Atrium</td>\n",
       "      <td>ChIJy4WXYL0Z2jERbg8hQW40fYs</td>\n",
       "      <td>1.299595</td>\n",
       "      <td>103.845818</td>\n",
       "      <td>7RXW+R8 Singapore</td>\n",
       "      <td>4.2</td>\n",
       "      <td>138</td>\n",
       "      <td>OPERATIONAL</td>\n",
       "      <td>shopping_mall</td>\n",
       "      <td>60A Orchard Rd, Singapore 238890</td>\n",
       "      <td>7</td>\n",
       "    </tr>\n",
       "    <tr>\n",
       "      <td>327</td>\n",
       "      <td>327</td>\n",
       "      <td>Compass One</td>\n",
       "      <td>ChIJy5hMcg8X2jERZ88iA4l4aBY</td>\n",
       "      <td>1.392434</td>\n",
       "      <td>103.895412</td>\n",
       "      <td>9VRW+X5 Singapore</td>\n",
       "      <td>4.1</td>\n",
       "      <td>6943</td>\n",
       "      <td>OPERATIONAL</td>\n",
       "      <td>shopping_mall</td>\n",
       "      <td>1 Sengkang Square, Singapore 545078</td>\n",
       "      <td>631</td>\n",
       "    </tr>\n",
       "    <tr>\n",
       "      <td>328</td>\n",
       "      <td>328</td>\n",
       "      <td>Havelock 2</td>\n",
       "      <td>ChIJyQ8DgWIZ2jERJyuRh581sco</td>\n",
       "      <td>1.287184</td>\n",
       "      <td>103.845137</td>\n",
       "      <td>7RPW+V3 Singapore</td>\n",
       "      <td>3.7</td>\n",
       "      <td>138</td>\n",
       "      <td>OPERATIONAL</td>\n",
       "      <td>shopping_mall</td>\n",
       "      <td>2 Havelock Rd, Singapore 059763</td>\n",
       "      <td>670</td>\n",
       "    </tr>\n",
       "    <tr>\n",
       "      <td>329</td>\n",
       "      <td>329</td>\n",
       "      <td>KAP Mall</td>\n",
       "      <td>ChIJyWSEZTMX2jERY7_UfsKdFhI</td>\n",
       "      <td>1.336998</td>\n",
       "      <td>103.779553</td>\n",
       "      <td>8QPH+QR Singapore</td>\n",
       "      <td>4.0</td>\n",
       "      <td>72</td>\n",
       "      <td>OPERATIONAL</td>\n",
       "      <td>shopping_mall</td>\n",
       "      <td>9 King Albert Park, Singapore</td>\n",
       "      <td>640</td>\n",
       "    </tr>\n",
       "    <tr>\n",
       "      <td>330</td>\n",
       "      <td>330</td>\n",
       "      <td>Paya Lebar Square</td>\n",
       "      <td>ChIJzxwZERgY2jER2FX37qmG49Q</td>\n",
       "      <td>1.318754</td>\n",
       "      <td>103.892568</td>\n",
       "      <td>8V9V+G2 Singapore</td>\n",
       "      <td>4.2</td>\n",
       "      <td>2289</td>\n",
       "      <td>OPERATIONAL</td>\n",
       "      <td>shopping_mall</td>\n",
       "      <td>60 Paya Lebar Rd, Singapore 409051</td>\n",
       "      <td>778</td>\n",
       "    </tr>\n",
       "  </tbody>\n",
       "</table>\n",
       "<p>331 rows × 12 columns</p>\n",
       "</div>"
      ],
      "text/plain": [
       "     Unnamed: 0                 place_name                     place_ID  \\\n",
       "0             0      NTU North Spine Plaza  ChIJ-f-vxgoP2jERP42l8kUV8DE   \n",
       "1             1             Orchard Towers  ChIJ-z0z0IwZ2jERXjOtNGbV0-0   \n",
       "2             2              Quayside Isle  ChIJ01fgzLUe2jERxlhvImcbZ7g   \n",
       "3             3  Coronation Shopping Plaza  ChIJ08duKAYa2jER47-5U4ZdgAo   \n",
       "4             4                  Hougang 1  ChIJ0ZkQLVsW2jERY9DgZurtpl8   \n",
       "..          ...                        ...                          ...   \n",
       "326         326                 The Atrium  ChIJy4WXYL0Z2jERbg8hQW40fYs   \n",
       "327         327                Compass One  ChIJy5hMcg8X2jERZ88iA4l4aBY   \n",
       "328         328                 Havelock 2  ChIJyQ8DgWIZ2jERJyuRh581sco   \n",
       "329         329                   KAP Mall  ChIJyWSEZTMX2jERY7_UfsKdFhI   \n",
       "330         330          Paya Lebar Square  ChIJzxwZERgY2jER2FX37qmG49Q   \n",
       "\n",
       "     latitude   Longitude          plus_code  rating  user_ratings_total  \\\n",
       "0    1.347064  103.680822  8MWJ+R8 Singapore     4.3                1070   \n",
       "1    1.307229  103.829332  8R4H+VP Singapore     3.9                2292   \n",
       "2    1.247681  103.842072  6RXR+3R Singapore     4.3                 568   \n",
       "3    1.323919  103.809989  8RF5+HX Singapore     3.6                 202   \n",
       "4    1.376061  103.879155  9VGH+CM Singapore     3.9                2183   \n",
       "..        ...         ...                ...     ...                 ...   \n",
       "326  1.299595  103.845818  7RXW+R8 Singapore     4.2                 138   \n",
       "327  1.392434  103.895412  9VRW+X5 Singapore     4.1                6943   \n",
       "328  1.287184  103.845137  7RPW+V3 Singapore     3.7                 138   \n",
       "329  1.336998  103.779553  8QPH+QR Singapore     4.0                  72   \n",
       "330  1.318754  103.892568  8V9V+G2 Singapore     4.2                2289   \n",
       "\n",
       "    business_status          types                                address  \\\n",
       "0       OPERATIONAL  shopping_mall        76 Nanyang Dr, Singapore 637331   \n",
       "1       OPERATIONAL  shopping_mall       400 Orchard Rd, Singapore 238875   \n",
       "2       OPERATIONAL  shopping_mall         31 Ocean Way, Singapore 098375   \n",
       "3       OPERATIONAL  shopping_mall   587 Bukit Timah Rd, Singapore 269707   \n",
       "4       OPERATIONAL  shopping_mall  1 Hougang Street 91, Singapore 538692   \n",
       "..              ...            ...                                    ...   \n",
       "326     OPERATIONAL  shopping_mall       60A Orchard Rd, Singapore 238890   \n",
       "327     OPERATIONAL  shopping_mall    1 Sengkang Square, Singapore 545078   \n",
       "328     OPERATIONAL  shopping_mall        2 Havelock Rd, Singapore 059763   \n",
       "329     OPERATIONAL  shopping_mall          9 King Albert Park, Singapore   \n",
       "330     OPERATIONAL  shopping_mall     60 Paya Lebar Rd, Singapore 409051   \n",
       "\n",
       "     customer  \n",
       "0          17  \n",
       "1         135  \n",
       "2         619  \n",
       "3         892  \n",
       "4         887  \n",
       "..        ...  \n",
       "326         7  \n",
       "327       631  \n",
       "328       670  \n",
       "329       640  \n",
       "330       778  \n",
       "\n",
       "[331 rows x 12 columns]"
      ]
     },
     "execution_count": 4,
     "metadata": {},
     "output_type": "execute_result"
    }
   ],
   "source": [
    "from random import randint\n",
    "\n",
    "lst = [randint(1,1001) for i in range(331)]\n",
    "# len(lst)\n",
    "build[\"customer\"] = lst\n",
    "build"
   ]
  },
  {
   "cell_type": "code",
   "execution_count": 5,
   "metadata": {},
   "outputs": [],
   "source": [
    "X = build[['rating', 'user_ratings_total']]\n",
    "y = build['customer']"
   ]
  },
  {
   "cell_type": "code",
   "execution_count": 6,
   "metadata": {},
   "outputs": [],
   "source": [
    "from sklearn.model_selection import train_test_split\n",
    "\n",
    "X_train, X_test, y_train, y_test = train_test_split(X, y, test_size = 0.2, random_state = 101)"
   ]
  },
  {
   "cell_type": "code",
   "execution_count": 7,
   "metadata": {},
   "outputs": [],
   "source": [
    "from sklearn.linear_model import LinearRegression"
   ]
  },
  {
   "cell_type": "code",
   "execution_count": 8,
   "metadata": {},
   "outputs": [],
   "source": [
    "lm = LinearRegression()"
   ]
  },
  {
   "cell_type": "code",
   "execution_count": 9,
   "metadata": {},
   "outputs": [
    {
     "data": {
      "text/plain": [
       "LinearRegression(copy_X=True, fit_intercept=True, n_jobs=None, normalize=False)"
      ]
     },
     "execution_count": 9,
     "metadata": {},
     "output_type": "execute_result"
    }
   ],
   "source": [
    "lm.fit(X_train,y_train)"
   ]
  },
  {
   "cell_type": "code",
   "execution_count": 10,
   "metadata": {},
   "outputs": [
    {
     "data": {
      "text/plain": [
       "950.256509695663"
      ]
     },
     "execution_count": 10,
     "metadata": {},
     "output_type": "execute_result"
    }
   ],
   "source": [
    "lm.intercept_"
   ]
  },
  {
   "cell_type": "code",
   "execution_count": 11,
   "metadata": {},
   "outputs": [
    {
     "data": {
      "text/plain": [
       "array([-1.15354585e+02,  4.62957437e-03])"
      ]
     },
     "execution_count": 11,
     "metadata": {},
     "output_type": "execute_result"
    }
   ],
   "source": [
    "lm.coef_"
   ]
  },
  {
   "cell_type": "code",
   "execution_count": 12,
   "metadata": {},
   "outputs": [
    {
     "data": {
      "text/html": [
       "<div>\n",
       "<style scoped>\n",
       "    .dataframe tbody tr th:only-of-type {\n",
       "        vertical-align: middle;\n",
       "    }\n",
       "\n",
       "    .dataframe tbody tr th {\n",
       "        vertical-align: top;\n",
       "    }\n",
       "\n",
       "    .dataframe thead th {\n",
       "        text-align: right;\n",
       "    }\n",
       "</style>\n",
       "<table border=\"1\" class=\"dataframe\">\n",
       "  <thead>\n",
       "    <tr style=\"text-align: right;\">\n",
       "      <th></th>\n",
       "      <th>Coefficients</th>\n",
       "    </tr>\n",
       "  </thead>\n",
       "  <tbody>\n",
       "    <tr>\n",
       "      <td>rating</td>\n",
       "      <td>-115.354585</td>\n",
       "    </tr>\n",
       "    <tr>\n",
       "      <td>user_ratings_total</td>\n",
       "      <td>0.004630</td>\n",
       "    </tr>\n",
       "  </tbody>\n",
       "</table>\n",
       "</div>"
      ],
      "text/plain": [
       "                    Coefficients\n",
       "rating               -115.354585\n",
       "user_ratings_total      0.004630"
      ]
     },
     "execution_count": 12,
     "metadata": {},
     "output_type": "execute_result"
    }
   ],
   "source": [
    "pd.DataFrame(lm.coef_,X.columns, columns=['Coefficients'])"
   ]
  },
  {
   "cell_type": "code",
   "execution_count": 13,
   "metadata": {},
   "outputs": [],
   "source": [
    "import statsmodels.api as sm"
   ]
  },
  {
   "cell_type": "code",
   "execution_count": 14,
   "metadata": {},
   "outputs": [],
   "source": [
    "model = sm.OLS(y_train,X_train)"
   ]
  },
  {
   "cell_type": "code",
   "execution_count": 15,
   "metadata": {},
   "outputs": [],
   "source": [
    "model_results = model.fit()"
   ]
  },
  {
   "cell_type": "code",
   "execution_count": 16,
   "metadata": {},
   "outputs": [
    {
     "data": {
      "text/html": [
       "<table class=\"simpletable\">\n",
       "<tr>\n",
       "          <td>Model:</td>                 <td>OLS</td>       <td>Adj. R-squared (uncentered):</td>   <td>0.712</td>  \n",
       "</tr>\n",
       "<tr>\n",
       "    <td>Dependent Variable:</td>       <td>customer</td>                 <td>AIC:</td>             <td>3786.8048</td>\n",
       "</tr>\n",
       "<tr>\n",
       "           <td>Date:</td>          <td>2020-10-17 22:31</td>             <td>BIC:</td>             <td>3793.9567</td>\n",
       "</tr>\n",
       "<tr>\n",
       "     <td>No. Observations:</td>           <td>264</td>              <td>Log-Likelihood:</td>        <td>-1891.4</td> \n",
       "</tr>\n",
       "<tr>\n",
       "         <td>Df Model:</td>                <td>2</td>                <td>F-statistic:</td>           <td>327.2</td>  \n",
       "</tr>\n",
       "<tr>\n",
       "       <td>Df Residuals:</td>             <td>262</td>            <td>Prob (F-statistic):</td>     <td>5.77e-72</td> \n",
       "</tr>\n",
       "<tr>\n",
       "  <td>R-squared (uncentered):</td>       <td>0.714</td>                 <td>Scale:</td>             <td>98571.</td>  \n",
       "</tr>\n",
       "</table>\n",
       "<table class=\"simpletable\">\n",
       "<tr>\n",
       "           <td></td>            <th>Coef.</th>  <th>Std.Err.</th>    <th>t</th>     <th>P>|t|</th>  <th>[0.025</th>   <th>0.975]</th> \n",
       "</tr>\n",
       "<tr>\n",
       "  <th>rating</th>             <td>122.3557</td>  <td>5.4463</td>  <td>22.4659</td> <td>0.0000</td> <td>111.6316</td> <td>133.0797</td>\n",
       "</tr>\n",
       "<tr>\n",
       "  <th>user_ratings_total</th>  <td>0.0003</td>   <td>0.0039</td>  <td>0.0734</td>  <td>0.9415</td>  <td>-0.0073</td>  <td>0.0079</td> \n",
       "</tr>\n",
       "</table>\n",
       "<table class=\"simpletable\">\n",
       "<tr>\n",
       "     <td>Omnibus:</td>    <td>261.768</td>  <td>Durbin-Watson:</td>    <td>1.976</td>\n",
       "</tr>\n",
       "<tr>\n",
       "  <td>Prob(Omnibus):</td>  <td>0.000</td>  <td>Jarque-Bera (JB):</td> <td>18.692</td>\n",
       "</tr>\n",
       "<tr>\n",
       "       <td>Skew:</td>      <td>0.081</td>      <td>Prob(JB):</td>      <td>0.000</td>\n",
       "</tr>\n",
       "<tr>\n",
       "     <td>Kurtosis:</td>    <td>1.706</td>   <td>Condition No.:</td>    <td>1601</td> \n",
       "</tr>\n",
       "</table>"
      ],
      "text/plain": [
       "<class 'statsmodels.iolib.summary2.Summary'>\n",
       "\"\"\"\n",
       "                        Results: Ordinary least squares\n",
       "===============================================================================\n",
       "Model:                  OLS              Adj. R-squared (uncentered): 0.712    \n",
       "Dependent Variable:     customer         AIC:                         3786.8048\n",
       "Date:                   2020-10-17 22:31 BIC:                         3793.9567\n",
       "No. Observations:       264              Log-Likelihood:              -1891.4  \n",
       "Df Model:               2                F-statistic:                 327.2    \n",
       "Df Residuals:           262              Prob (F-statistic):          5.77e-72 \n",
       "R-squared (uncentered): 0.714            Scale:                       98571.   \n",
       "---------------------------------------------------------------------------------\n",
       "                      Coef.     Std.Err.      t      P>|t|     [0.025     0.975] \n",
       "---------------------------------------------------------------------------------\n",
       "rating               122.3557     5.4463   22.4659   0.0000   111.6316   133.0797\n",
       "user_ratings_total     0.0003     0.0039    0.0734   0.9415    -0.0073     0.0079\n",
       "-------------------------------------------------------------------------------\n",
       "Omnibus:                   261.768           Durbin-Watson:              1.976 \n",
       "Prob(Omnibus):             0.000             Jarque-Bera (JB):           18.692\n",
       "Skew:                      0.081             Prob(JB):                   0.000 \n",
       "Kurtosis:                  1.706             Condition No.:              1601  \n",
       "===============================================================================\n",
       "* The condition number is large (2e+03). This might indicate             strong\n",
       "multicollinearity or other numerical problems.\n",
       "\"\"\""
      ]
     },
     "execution_count": 16,
     "metadata": {},
     "output_type": "execute_result"
    }
   ],
   "source": [
    "model_results.summary2()"
   ]
  },
  {
   "cell_type": "code",
   "execution_count": 18,
   "metadata": {},
   "outputs": [],
   "source": [
    "y_pred = lm.predict(X_test)"
   ]
  },
  {
   "cell_type": "code",
   "execution_count": 19,
   "metadata": {},
   "outputs": [
    {
     "data": {
      "text/html": [
       "<div>\n",
       "<style scoped>\n",
       "    .dataframe tbody tr th:only-of-type {\n",
       "        vertical-align: middle;\n",
       "    }\n",
       "\n",
       "    .dataframe tbody tr th {\n",
       "        vertical-align: top;\n",
       "    }\n",
       "\n",
       "    .dataframe thead th {\n",
       "        text-align: right;\n",
       "    }\n",
       "</style>\n",
       "<table border=\"1\" class=\"dataframe\">\n",
       "  <thead>\n",
       "    <tr style=\"text-align: right;\">\n",
       "      <th></th>\n",
       "      <th>Actual</th>\n",
       "      <th>Predicted</th>\n",
       "    </tr>\n",
       "  </thead>\n",
       "  <tbody>\n",
       "    <tr>\n",
       "      <td>165</td>\n",
       "      <td>735</td>\n",
       "      <td>500.456959</td>\n",
       "    </tr>\n",
       "    <tr>\n",
       "      <td>243</td>\n",
       "      <td>232</td>\n",
       "      <td>512.348895</td>\n",
       "    </tr>\n",
       "    <tr>\n",
       "      <td>134</td>\n",
       "      <td>266</td>\n",
       "      <td>506.267075</td>\n",
       "    </tr>\n",
       "    <tr>\n",
       "      <td>124</td>\n",
       "      <td>844</td>\n",
       "      <td>419.690231</td>\n",
       "    </tr>\n",
       "    <tr>\n",
       "      <td>208</td>\n",
       "      <td>40</td>\n",
       "      <td>512.047973</td>\n",
       "    </tr>\n",
       "  </tbody>\n",
       "</table>\n",
       "</div>"
      ],
      "text/plain": [
       "     Actual   Predicted\n",
       "165     735  500.456959\n",
       "243     232  512.348895\n",
       "134     266  506.267075\n",
       "124     844  419.690231\n",
       "208      40  512.047973"
      ]
     },
     "execution_count": 19,
     "metadata": {},
     "output_type": "execute_result"
    }
   ],
   "source": [
    "results = pd.DataFrame({'Actual': y_test, 'Predicted': y_pred})\n",
    "results.head()"
   ]
  },
  {
   "cell_type": "code",
   "execution_count": 21,
   "metadata": {},
   "outputs": [
    {
     "data": {
      "text/html": [
       "<div>\n",
       "<style scoped>\n",
       "    .dataframe tbody tr th:only-of-type {\n",
       "        vertical-align: middle;\n",
       "    }\n",
       "\n",
       "    .dataframe tbody tr th {\n",
       "        vertical-align: top;\n",
       "    }\n",
       "\n",
       "    .dataframe thead th {\n",
       "        text-align: right;\n",
       "    }\n",
       "</style>\n",
       "<table border=\"1\" class=\"dataframe\">\n",
       "  <thead>\n",
       "    <tr style=\"text-align: right;\">\n",
       "      <th></th>\n",
       "      <th>Actual</th>\n",
       "      <th>Predicted</th>\n",
       "      <th>residuals</th>\n",
       "    </tr>\n",
       "  </thead>\n",
       "  <tbody>\n",
       "    <tr>\n",
       "      <td>165</td>\n",
       "      <td>735</td>\n",
       "      <td>500.456959</td>\n",
       "      <td>234.543041</td>\n",
       "    </tr>\n",
       "    <tr>\n",
       "      <td>243</td>\n",
       "      <td>232</td>\n",
       "      <td>512.348895</td>\n",
       "      <td>-280.348895</td>\n",
       "    </tr>\n",
       "    <tr>\n",
       "      <td>134</td>\n",
       "      <td>266</td>\n",
       "      <td>506.267075</td>\n",
       "      <td>-240.267075</td>\n",
       "    </tr>\n",
       "    <tr>\n",
       "      <td>124</td>\n",
       "      <td>844</td>\n",
       "      <td>419.690231</td>\n",
       "      <td>424.309769</td>\n",
       "    </tr>\n",
       "    <tr>\n",
       "      <td>208</td>\n",
       "      <td>40</td>\n",
       "      <td>512.047973</td>\n",
       "      <td>-472.047973</td>\n",
       "    </tr>\n",
       "  </tbody>\n",
       "</table>\n",
       "</div>"
      ],
      "text/plain": [
       "     Actual   Predicted   residuals\n",
       "165     735  500.456959  234.543041\n",
       "243     232  512.348895 -280.348895\n",
       "134     266  506.267075 -240.267075\n",
       "124     844  419.690231  424.309769\n",
       "208      40  512.047973 -472.047973"
      ]
     },
     "execution_count": 21,
     "metadata": {},
     "output_type": "execute_result"
    }
   ],
   "source": [
    "results['residuals'] = results['Actual'] - results['Predicted']\n",
    "results.head()"
   ]
  },
  {
   "cell_type": "code",
   "execution_count": 22,
   "metadata": {},
   "outputs": [
    {
     "data": {
      "text/plain": [
       "<matplotlib.collections.PathCollection at 0x2542ab30808>"
      ]
     },
     "execution_count": 22,
     "metadata": {},
     "output_type": "execute_result"
    },
    {
     "data": {
      "image/png": "[encoded data removed]",
      "text/plain": [
       "<Figure size 432x288 with 1 Axes>"
      ]
     },
     "metadata": {
      "needs_background": "light"
     },
     "output_type": "display_data"
    }
   ],
   "source": [
    "plt.scatter(results['Predicted'], results['residuals'],  color='blue')"
   ]
  },
  {
   "cell_type": "code",
   "execution_count": 23,
   "metadata": {},
   "outputs": [
    {
     "data": {
      "text/plain": [
       "(array([ 6., 10.,  8.,  6.,  3.,  6.,  8.,  5.,  7.,  8.]),\n",
       " array([-521.03092792, -417.69699455, -314.36306118, -211.02912781,\n",
       "        -107.69519444,   -4.36126106,   98.97267231,  202.30660568,\n",
       "         305.64053905,  408.97447243,  512.3084058 ]),\n",
       " <a list of 10 Patch objects>)"
      ]
     },
     "execution_count": 23,
     "metadata": {},
     "output_type": "execute_result"
    },
    {
     "data": {
      "image/png": "[encoded data removed]",
      "text/plain": [
       "<Figure size 432x288 with 1 Axes>"
      ]
     },
     "metadata": {
      "needs_background": "light"
     },
     "output_type": "display_data"
    }
   ],
   "source": [
    "plt.hist(results['residuals'])"
   ]
  },
  {
   "cell_type": "code",
   "execution_count": 24,
   "metadata": {},
   "outputs": [
    {
     "name": "stdout",
     "output_type": "stream",
     "text": [
      "Residuals: Statistics=0.118, p=0.290711785\n"
     ]
    }
   ],
   "source": [
    "from scipy import stats\n",
    "from scipy.stats import norm, kstest\n",
    "\n",
    "np.random.seed(873)\n",
    "\n",
    "# getting the scale for residuals\n",
    "loc, scale = norm.fit(results['residuals'])\n",
    "\n",
    "# create a normal distribution with loc and scale\n",
    "n = norm(loc=loc, scale=scale)\n",
    "\n",
    "# perform the KS-test using residuals compared to a normal distribution in the correct scale\n",
    "stat, p = stats.kstest(results['residuals'], n.cdf)\n",
    "\n",
    "# print p-value: if p-value is <0.05 (5% significance), then reject null hypothesis (that the two distributions are the same)\n",
    "print('Residuals: Statistics=%.3f, p=%.9f' % (stat, p))"
   ]
  },
  {
   "cell_type": "code",
   "execution_count": 25,
   "metadata": {},
   "outputs": [],
   "source": [
    "y_pred = lm.predict(X_test)"
   ]
  },
  {
   "cell_type": "code",
   "execution_count": 26,
   "metadata": {},
   "outputs": [],
   "source": [
    "y_actual = y_test.to_numpy()"
   ]
  },
  {
   "cell_type": "code",
   "execution_count": 27,
   "metadata": {},
   "outputs": [
    {
     "name": "stdout",
     "output_type": "stream",
     "text": [
      "\n",
      "Actual:   735\n",
      "Predict.: 500.0\n",
      "Differ.:  235.0\n",
      "\n",
      "Actual:   232\n",
      "Predict.: 512.0\n",
      "Differ.:  -280.0\n",
      "\n",
      "Actual:   266\n",
      "Predict.: 506.0\n",
      "Differ.:  -240.0\n",
      "\n",
      "Actual:   844\n",
      "Predict.: 420.0\n",
      "Differ.:  424.0\n",
      "\n",
      "Actual:   40\n",
      "Predict.: 512.0\n",
      "Differ.:  -472.0\n"
     ]
    }
   ],
   "source": [
    "for i in range(0,5):\n",
    "    print('\\nActual:   ' + str(round(y_actual[i])))\n",
    "    print('Predict.: ' + str(round(y_pred[i])))\n",
    "    print('Differ.:  ' + str(round(y_actual[i]-y_pred[i])))"
   ]
  },
  {
   "cell_type": "code",
   "execution_count": 28,
   "metadata": {},
   "outputs": [
    {
     "data": {
      "text/plain": [
       "<matplotlib.collections.PathCollection at 0x25429ced348>"
      ]
     },
     "execution_count": 28,
     "metadata": {},
     "output_type": "execute_result"
    },
    {
     "data": {
      "image/png": "[encoded data removed]",
      "text/plain": [
       "<Figure size 432x288 with 1 Axes>"
      ]
     },
     "metadata": {
      "needs_background": "light"
     },
     "output_type": "display_data"
    }
   ],
   "source": [
    "plt.scatter(y_test,y_pred)"
   ]
  },
  {
   "cell_type": "code",
   "execution_count": 29,
   "metadata": {},
   "outputs": [],
   "source": [
    "from sklearn.metrics import mean_squared_error\n",
    "from sklearn.metrics import r2_score\n",
    "\n",
    "mse = mean_squared_error(y_test, y_pred)\n",
    "rmse = np.sqrt(mse)"
   ]
  },
  {
   "cell_type": "code",
   "execution_count": 30,
   "metadata": {},
   "outputs": [
    {
     "data": {
      "text/plain": [
       "315.5055219087998"
      ]
     },
     "execution_count": 30,
     "metadata": {},
     "output_type": "execute_result"
    }
   ],
   "source": [
    "rmse"
   ]
  },
  {
   "cell_type": "code",
   "execution_count": 31,
   "metadata": {},
   "outputs": [
    {
     "data": {
      "text/plain": [
       "495.4029850746269"
      ]
     },
     "execution_count": 31,
     "metadata": {},
     "output_type": "execute_result"
    }
   ],
   "source": [
    "y_test.mean()"
   ]
  },
  {
   "cell_type": "code",
   "execution_count": 32,
   "metadata": {},
   "outputs": [],
   "source": [
    "r_squared = r2_score(y_test, y_pred)"
   ]
  },
  {
   "cell_type": "code",
   "execution_count": 33,
   "metadata": {},
   "outputs": [
    {
     "data": {
      "text/plain": [
       "-0.055955556098673975"
      ]
     },
     "execution_count": 33,
     "metadata": {},
     "output_type": "execute_result"
    }
   ],
   "source": [
    "r_squared"
   ]
  },
  {
   "cell_type": "code",
   "execution_count": null,
   "metadata": {},
   "outputs": [],
   "source": []
  }
 ],
 "metadata": {
  "kernelspec": {
   "display_name": "Python 3",
   "language": "python",
   "name": "python3"
  },
  "language_info": {
   "codemirror_mode": {
    "name": "ipython",
    "version": 3
   },
   "file_extension": ".py",
   "mimetype": "text/x-python",
   "name": "python",
   "nbconvert_exporter": "python",
   "pygments_lexer": "ipython3",
   "version": "3.7.4"
  }
 },
 "nbformat": 4,
 "nbformat_minor": 2
}
