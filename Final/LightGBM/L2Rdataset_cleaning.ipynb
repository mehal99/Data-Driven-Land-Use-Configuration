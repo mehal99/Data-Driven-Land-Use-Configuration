{
 "cells": [
  {
   "cell_type": "code",
   "execution_count": 57,
   "metadata": {
    "ExecuteTime": {
     "end_time": "2020-10-28T08:03:29.783483Z",
     "start_time": "2020-10-28T08:03:29.777500Z"
    }
   },
   "outputs": [],
   "source": [
    "import pandas as pd\n",
    "import numpy as np\n",
    "import matplotlib.pyplot as plt"
   ]
  },
  {
   "cell_type": "code",
   "execution_count": 58,
   "metadata": {
    "ExecuteTime": {
     "end_time": "2020-10-28T08:03:31.488173Z",
     "start_time": "2020-10-28T08:03:30.895784Z"
    }
   },
   "outputs": [],
   "source": [
    "shopping_mall = pd.read_excel('Data_v3.xlsx', sheet_name = 'mall')\n",
    "hospital = pd.read_excel('Data_v3.xlsx', sheet_name = 'hospital')\n",
    "hotel = pd.read_excel('Data_v3.xlsx', sheet_name = 'hotel')"
   ]
  },
  {
   "cell_type": "code",
   "execution_count": 59,
   "metadata": {
    "ExecuteTime": {
     "end_time": "2020-10-28T08:03:31.567956Z",
     "start_time": "2020-10-28T08:03:31.556984Z"
    }
   },
   "outputs": [
    {
     "name": "stdout",
     "output_type": "stream",
     "text": [
      "<class 'pandas.core.frame.DataFrame'>\n",
      "RangeIndex: 521 entries, 0 to 520\n",
      "Data columns (total 14 columns):\n",
      " #   Column              Non-Null Count  Dtype  \n",
      "---  ------              --------------  -----  \n",
      " 0   place_name          521 non-null    object \n",
      " 1   place_ID            521 non-null    object \n",
      " 2   latitude            521 non-null    float64\n",
      " 3   Longitude           521 non-null    float64\n",
      " 4   plus_code           521 non-null    object \n",
      " 5   rating              521 non-null    float64\n",
      " 6   user_ratings_total  521 non-null    int64  \n",
      " 7   business_status     521 non-null    object \n",
      " 8   types               521 non-null    object \n",
      " 9   address             521 non-null    object \n",
      " 10  region              520 non-null    object \n",
      " 11  num_bus_stop        521 non-null    int64  \n",
      " 12  num_hospital        521 non-null    int64  \n",
      " 13  population          450 non-null    float64\n",
      "dtypes: float64(4), int64(3), object(7)\n",
      "memory usage: 57.1+ KB\n"
     ]
    }
   ],
   "source": [
    "hospital.info()"
   ]
  },
  {
   "cell_type": "code",
   "execution_count": 60,
   "metadata": {
    "ExecuteTime": {
     "end_time": "2020-10-28T08:03:32.353969Z",
     "start_time": "2020-10-28T08:03:32.351005Z"
    }
   },
   "outputs": [],
   "source": [
    "# drop first column\n",
    "# shopping_mall.drop(columns = ['Unnamed: 0'], inplace = True)\n",
    "# hospital.drop(columns = ['Unnamed: 0'], inplace = True)\n",
    "# hotel.drop(columns = ['Unnamed: 0'], inplace = True)"
   ]
  },
  {
   "cell_type": "code",
   "execution_count": 61,
   "metadata": {
    "ExecuteTime": {
     "end_time": "2020-10-28T08:03:32.816505Z",
     "start_time": "2020-10-28T08:03:32.799549Z"
    }
   },
   "outputs": [],
   "source": [
    "shopping_mall.dropna(inplace=True)\n",
    "shopping_mall.reset_index(drop=True, inplace=True)\n",
    "hospital.dropna(inplace=True)\n",
    "hospital.reset_index(drop=True, inplace=True)\n",
    "hotel.dropna(inplace=True)\n",
    "hotel.reset_index(drop=True, inplace=True)"
   ]
  },
  {
   "cell_type": "code",
   "execution_count": 62,
   "metadata": {
    "ExecuteTime": {
     "end_time": "2020-10-28T08:03:33.330320Z",
     "start_time": "2020-10-28T08:03:33.325328Z"
    }
   },
   "outputs": [],
   "source": [
    "shopping_mall['population']=shopping_mall['population'].astype('int64')\n",
    "hospital['population']=hospital['population'].astype('int64')\n",
    "hotel['population']=hotel['population'].astype('int64')"
   ]
  },
  {
   "cell_type": "code",
   "execution_count": 63,
   "metadata": {
    "ExecuteTime": {
     "end_time": "2020-10-28T08:03:33.870398Z",
     "start_time": "2020-10-28T08:03:33.866405Z"
    }
   },
   "outputs": [],
   "source": [
    "#query_id\n",
    "qid = {'shopping_mall':0, 'hotel':1, 'hospital':2}"
   ]
  },
  {
   "cell_type": "code",
   "execution_count": 64,
   "metadata": {
    "ExecuteTime": {
     "end_time": "2020-10-28T08:03:34.667746Z",
     "start_time": "2020-10-28T08:03:34.661793Z"
    }
   },
   "outputs": [],
   "source": [
    "shopping_mall['qid'] = qid['shopping_mall']\n",
    "hotel['qid'] = qid['hotel']\n",
    "hospital['qid'] = qid['hospital']"
   ]
  },
  {
   "cell_type": "code",
   "execution_count": 65,
   "metadata": {
    "ExecuteTime": {
     "end_time": "2020-10-28T08:03:35.499295Z",
     "start_time": "2020-10-28T08:03:35.483338Z"
    }
   },
   "outputs": [
    {
     "data": {
      "text/html": [
       "<div>\n",
       "<style scoped>\n",
       "    .dataframe tbody tr th:only-of-type {\n",
       "        vertical-align: middle;\n",
       "    }\n",
       "\n",
       "    .dataframe tbody tr th {\n",
       "        vertical-align: top;\n",
       "    }\n",
       "\n",
       "    .dataframe thead th {\n",
       "        text-align: right;\n",
       "    }\n",
       "</style>\n",
       "<table border=\"1\" class=\"dataframe\">\n",
       "  <thead>\n",
       "    <tr style=\"text-align: right;\">\n",
       "      <th></th>\n",
       "      <th>Unnamed: 0</th>\n",
       "      <th>place_name</th>\n",
       "      <th>place_ID</th>\n",
       "      <th>latitude</th>\n",
       "      <th>Longitude</th>\n",
       "      <th>plus_code</th>\n",
       "      <th>rating</th>\n",
       "      <th>user_ratings_total</th>\n",
       "      <th>business_status</th>\n",
       "      <th>types</th>\n",
       "      <th>address</th>\n",
       "      <th>num_bus</th>\n",
       "      <th>num_mall</th>\n",
       "      <th>population</th>\n",
       "      <th>qid</th>\n",
       "    </tr>\n",
       "  </thead>\n",
       "  <tbody>\n",
       "    <tr>\n",
       "      <th>0</th>\n",
       "      <td>1</td>\n",
       "      <td>Orchard Towers</td>\n",
       "      <td>ChIJ-z0z0IwZ2jERXjOtNGbV0-0</td>\n",
       "      <td>1.307229</td>\n",
       "      <td>103.829332</td>\n",
       "      <td>8R4H+VP Singapore</td>\n",
       "      <td>3.9</td>\n",
       "      <td>2292</td>\n",
       "      <td>OPERATIONAL</td>\n",
       "      <td>shopping_mall</td>\n",
       "      <td>400 Orchard Rd, Singapore 238875</td>\n",
       "      <td>1</td>\n",
       "      <td>13</td>\n",
       "      <td>920</td>\n",
       "      <td>0</td>\n",
       "    </tr>\n",
       "    <tr>\n",
       "      <th>1</th>\n",
       "      <td>2</td>\n",
       "      <td>Quayside Isle</td>\n",
       "      <td>ChIJ01fgzLUe2jERxlhvImcbZ7g</td>\n",
       "      <td>1.247681</td>\n",
       "      <td>103.842072</td>\n",
       "      <td>6RXR+3R Singapore</td>\n",
       "      <td>4.3</td>\n",
       "      <td>568</td>\n",
       "      <td>OPERATIONAL</td>\n",
       "      <td>shopping_mall</td>\n",
       "      <td>31 Ocean Way, Singapore 098375</td>\n",
       "      <td>1</td>\n",
       "      <td>0</td>\n",
       "      <td>1480</td>\n",
       "      <td>0</td>\n",
       "    </tr>\n",
       "    <tr>\n",
       "      <th>2</th>\n",
       "      <td>3</td>\n",
       "      <td>Coronation Shopping Plaza</td>\n",
       "      <td>ChIJ08duKAYa2jER47-5U4ZdgAo</td>\n",
       "      <td>1.323919</td>\n",
       "      <td>103.809989</td>\n",
       "      <td>8RF5+HX Singapore</td>\n",
       "      <td>3.6</td>\n",
       "      <td>202</td>\n",
       "      <td>OPERATIONAL</td>\n",
       "      <td>shopping_mall</td>\n",
       "      <td>587 Bukit Timah Rd, Singapore 269707</td>\n",
       "      <td>3</td>\n",
       "      <td>4</td>\n",
       "      <td>74470</td>\n",
       "      <td>0</td>\n",
       "    </tr>\n",
       "    <tr>\n",
       "      <th>3</th>\n",
       "      <td>4</td>\n",
       "      <td>Hougang 1</td>\n",
       "      <td>ChIJ0ZkQLVsW2jERY9DgZurtpl8</td>\n",
       "      <td>1.376061</td>\n",
       "      <td>103.879155</td>\n",
       "      <td>9VGH+CM Singapore</td>\n",
       "      <td>3.9</td>\n",
       "      <td>2183</td>\n",
       "      <td>OPERATIONAL</td>\n",
       "      <td>shopping_mall</td>\n",
       "      <td>1 Hougang Street 91, Singapore 538692</td>\n",
       "      <td>0</td>\n",
       "      <td>0</td>\n",
       "      <td>222310</td>\n",
       "      <td>0</td>\n",
       "    </tr>\n",
       "    <tr>\n",
       "      <th>4</th>\n",
       "      <td>5</td>\n",
       "      <td>Greenwich V</td>\n",
       "      <td>ChIJ1-hkimEW2jERyc5cKHfC3Sw</td>\n",
       "      <td>1.387371</td>\n",
       "      <td>103.869407</td>\n",
       "      <td>9VP9+WQ Singapore</td>\n",
       "      <td>3.8</td>\n",
       "      <td>1304</td>\n",
       "      <td>OPERATIONAL</td>\n",
       "      <td>shopping_mall</td>\n",
       "      <td>1 Seletar Rd, Singapore 807011</td>\n",
       "      <td>0</td>\n",
       "      <td>0</td>\n",
       "      <td>120670</td>\n",
       "      <td>0</td>\n",
       "    </tr>\n",
       "  </tbody>\n",
       "</table>\n",
       "</div>"
      ],
      "text/plain": [
       "   Unnamed: 0                 place_name                     place_ID  \\\n",
       "0           1             Orchard Towers  ChIJ-z0z0IwZ2jERXjOtNGbV0-0   \n",
       "1           2              Quayside Isle  ChIJ01fgzLUe2jERxlhvImcbZ7g   \n",
       "2           3  Coronation Shopping Plaza  ChIJ08duKAYa2jER47-5U4ZdgAo   \n",
       "3           4                  Hougang 1  ChIJ0ZkQLVsW2jERY9DgZurtpl8   \n",
       "4           5                Greenwich V  ChIJ1-hkimEW2jERyc5cKHfC3Sw   \n",
       "\n",
       "   latitude   Longitude          plus_code  rating  user_ratings_total  \\\n",
       "0  1.307229  103.829332  8R4H+VP Singapore     3.9                2292   \n",
       "1  1.247681  103.842072  6RXR+3R Singapore     4.3                 568   \n",
       "2  1.323919  103.809989  8RF5+HX Singapore     3.6                 202   \n",
       "3  1.376061  103.879155  9VGH+CM Singapore     3.9                2183   \n",
       "4  1.387371  103.869407  9VP9+WQ Singapore     3.8                1304   \n",
       "\n",
       "  business_status          types                                address  \\\n",
       "0     OPERATIONAL  shopping_mall       400 Orchard Rd, Singapore 238875   \n",
       "1     OPERATIONAL  shopping_mall         31 Ocean Way, Singapore 098375   \n",
       "2     OPERATIONAL  shopping_mall   587 Bukit Timah Rd, Singapore 269707   \n",
       "3     OPERATIONAL  shopping_mall  1 Hougang Street 91, Singapore 538692   \n",
       "4     OPERATIONAL  shopping_mall         1 Seletar Rd, Singapore 807011   \n",
       "\n",
       "   num_bus  num_mall  population  qid  \n",
       "0        1        13         920    0  \n",
       "1        1         0        1480    0  \n",
       "2        3         4       74470    0  \n",
       "3        0         0      222310    0  \n",
       "4        0         0      120670    0  "
      ]
     },
     "execution_count": 65,
     "metadata": {},
     "output_type": "execute_result"
    }
   ],
   "source": [
    "shopping_mall.head()"
   ]
  },
  {
   "cell_type": "code",
   "execution_count": 66,
   "metadata": {
    "ExecuteTime": {
     "end_time": "2020-10-28T08:03:36.411506Z",
     "start_time": "2020-10-28T08:03:36.406522Z"
    }
   },
   "outputs": [],
   "source": [
    "shopping_mall['relevance']=0\n",
    "hotel['relevance']=0\n",
    "hospital['relevance']=0"
   ]
  },
  {
   "cell_type": "code",
   "execution_count": 67,
   "metadata": {
    "ExecuteTime": {
     "end_time": "2020-10-28T08:03:36.909513Z",
     "start_time": "2020-10-28T08:03:36.903528Z"
    }
   },
   "outputs": [],
   "source": [
    "shopping_mall['relevance']=shopping_mall['relevance'].astype('float64')\n",
    "hotel['relevance']=hotel['relevance'].astype('float64')\n",
    "hospital['relevance']=hospital['relevance'].astype('float64')"
   ]
  },
  {
   "cell_type": "code",
   "execution_count": 68,
   "metadata": {
    "ExecuteTime": {
     "end_time": "2020-10-28T08:03:37.410041Z",
     "start_time": "2020-10-28T08:03:37.407083Z"
    }
   },
   "outputs": [],
   "source": [
    "# compute relevance\n",
    "# def compute_relevance(dataframe):\n",
    "#     for i in range(len(dataframe)):\n",
    "#         if dataframe['user_ratings_total'][i] >= 100:\n",
    "#             dataframe['relevance'][i] = dataframe['rating'][i]\n",
    "#         elif dataframe['user_ratings_total'][i] >= 50:\n",
    "#             dataframe['relevance'][i] = 0.85*dataframe['rating'][i]\n",
    "#         else:\n",
    "#             dataframe['relevance'][i] = 0.7*dataframe['rating'][i]\n"
   ]
  },
  {
   "cell_type": "code",
   "execution_count": 11,
   "metadata": {
    "ExecuteTime": {
     "end_time": "2020-10-27T01:33:27.649662Z",
     "start_time": "2020-10-27T01:33:27.641685Z"
    }
   },
   "outputs": [],
   "source": [
    "# def compute_relevance(dataframe):\n",
    "#     for i in range(len(dataframe)):\n",
    "#         if dataframe['user_ratings_total'][i] <= 50:\n",
    "#             if 0 <= dataframe['rating'][i] <= 3.5:\n",
    "#                 dataframe['relevance'][i] = 0\n",
    "#             elif 3.5 <= dataframe['rating'][i] <= 4.5:\n",
    "#                 dataframe['relevance'][i] = 1\n",
    "#             else:\n",
    "#                 dataframe['relevance'][i] = 2\n",
    "#         else:\n",
    "#             if 0 <= dataframe['rating'][i] <= 2:\n",
    "#                 dataframe['relevance'][i] = 0\n",
    "#             elif 2 <= dataframe['rating'][i] <= 4:\n",
    "#                 dataframe['relevance'][i] = 1\n",
    "#             else:\n",
    "#                 dataframe['relevance'][i] = 2"
   ]
  },
  {
   "cell_type": "code",
   "execution_count": 69,
   "metadata": {
    "ExecuteTime": {
     "end_time": "2020-10-28T08:03:45.563153Z",
     "start_time": "2020-10-28T08:03:45.442191Z"
    }
   },
   "outputs": [
    {
     "name": "stdout",
     "output_type": "stream",
     "text": [
      "0.0\n",
      "5.0\n"
     ]
    },
    {
     "data": {
      "image/png": "[encoded data removed]",
      "text/plain": [
       "<Figure size 432x288 with 1 Axes>"
      ]
     },
     "metadata": {
      "needs_background": "light"
     },
     "output_type": "display_data"
    }
   ],
   "source": [
    "rating = shopping_mall['rating']\n",
    "users = shopping_mall['user_ratings_total']\n",
    "relevance = round(np.ceil(np.log(users)*rating)/10)\n",
    "print(min(relevance))\n",
    "print(max(relevance))\n",
    "plt.hist(relevance)\n",
    "shopping_mall['relevance'] = relevance"
   ]
  },
  {
   "cell_type": "code",
   "execution_count": 70,
   "metadata": {
    "ExecuteTime": {
     "end_time": "2020-10-28T08:03:54.743611Z",
     "start_time": "2020-10-28T08:03:54.737629Z"
    }
   },
   "outputs": [
    {
     "data": {
      "text/plain": [
       "numpy.float64"
      ]
     },
     "execution_count": 70,
     "metadata": {},
     "output_type": "execute_result"
    }
   ],
   "source": [
    "type(relevance[0])"
   ]
  },
  {
   "cell_type": "code",
   "execution_count": 71,
   "metadata": {
    "ExecuteTime": {
     "end_time": "2020-10-28T08:03:57.390621Z",
     "start_time": "2020-10-28T08:03:57.365684Z"
    }
   },
   "outputs": [
    {
     "data": {
      "text/html": [
       "<div>\n",
       "<style scoped>\n",
       "    .dataframe tbody tr th:only-of-type {\n",
       "        vertical-align: middle;\n",
       "    }\n",
       "\n",
       "    .dataframe tbody tr th {\n",
       "        vertical-align: top;\n",
       "    }\n",
       "\n",
       "    .dataframe thead th {\n",
       "        text-align: right;\n",
       "    }\n",
       "</style>\n",
       "<table border=\"1\" class=\"dataframe\">\n",
       "  <thead>\n",
       "    <tr style=\"text-align: right;\">\n",
       "      <th></th>\n",
       "      <th>Unnamed: 0</th>\n",
       "      <th>place_name</th>\n",
       "      <th>place_ID</th>\n",
       "      <th>latitude</th>\n",
       "      <th>Longitude</th>\n",
       "      <th>plus_code</th>\n",
       "      <th>rating</th>\n",
       "      <th>user_ratings_total</th>\n",
       "      <th>business_status</th>\n",
       "      <th>types</th>\n",
       "      <th>address</th>\n",
       "      <th>num_bus</th>\n",
       "      <th>num_mall</th>\n",
       "      <th>population</th>\n",
       "      <th>qid</th>\n",
       "      <th>relevance</th>\n",
       "    </tr>\n",
       "  </thead>\n",
       "  <tbody>\n",
       "    <tr>\n",
       "      <th>0</th>\n",
       "      <td>1</td>\n",
       "      <td>Orchard Towers</td>\n",
       "      <td>ChIJ-z0z0IwZ2jERXjOtNGbV0-0</td>\n",
       "      <td>1.307229</td>\n",
       "      <td>103.829332</td>\n",
       "      <td>8R4H+VP Singapore</td>\n",
       "      <td>3.9</td>\n",
       "      <td>2292</td>\n",
       "      <td>OPERATIONAL</td>\n",
       "      <td>shopping_mall</td>\n",
       "      <td>400 Orchard Rd, Singapore 238875</td>\n",
       "      <td>1</td>\n",
       "      <td>13</td>\n",
       "      <td>920</td>\n",
       "      <td>0</td>\n",
       "      <td>3.0</td>\n",
       "    </tr>\n",
       "    <tr>\n",
       "      <th>1</th>\n",
       "      <td>2</td>\n",
       "      <td>Quayside Isle</td>\n",
       "      <td>ChIJ01fgzLUe2jERxlhvImcbZ7g</td>\n",
       "      <td>1.247681</td>\n",
       "      <td>103.842072</td>\n",
       "      <td>6RXR+3R Singapore</td>\n",
       "      <td>4.3</td>\n",
       "      <td>568</td>\n",
       "      <td>OPERATIONAL</td>\n",
       "      <td>shopping_mall</td>\n",
       "      <td>31 Ocean Way, Singapore 098375</td>\n",
       "      <td>1</td>\n",
       "      <td>0</td>\n",
       "      <td>1480</td>\n",
       "      <td>0</td>\n",
       "      <td>3.0</td>\n",
       "    </tr>\n",
       "    <tr>\n",
       "      <th>2</th>\n",
       "      <td>3</td>\n",
       "      <td>Coronation Shopping Plaza</td>\n",
       "      <td>ChIJ08duKAYa2jER47-5U4ZdgAo</td>\n",
       "      <td>1.323919</td>\n",
       "      <td>103.809989</td>\n",
       "      <td>8RF5+HX Singapore</td>\n",
       "      <td>3.6</td>\n",
       "      <td>202</td>\n",
       "      <td>OPERATIONAL</td>\n",
       "      <td>shopping_mall</td>\n",
       "      <td>587 Bukit Timah Rd, Singapore 269707</td>\n",
       "      <td>3</td>\n",
       "      <td>4</td>\n",
       "      <td>74470</td>\n",
       "      <td>0</td>\n",
       "      <td>2.0</td>\n",
       "    </tr>\n",
       "    <tr>\n",
       "      <th>3</th>\n",
       "      <td>4</td>\n",
       "      <td>Hougang 1</td>\n",
       "      <td>ChIJ0ZkQLVsW2jERY9DgZurtpl8</td>\n",
       "      <td>1.376061</td>\n",
       "      <td>103.879155</td>\n",
       "      <td>9VGH+CM Singapore</td>\n",
       "      <td>3.9</td>\n",
       "      <td>2183</td>\n",
       "      <td>OPERATIONAL</td>\n",
       "      <td>shopping_mall</td>\n",
       "      <td>1 Hougang Street 91, Singapore 538692</td>\n",
       "      <td>0</td>\n",
       "      <td>0</td>\n",
       "      <td>222310</td>\n",
       "      <td>0</td>\n",
       "      <td>3.0</td>\n",
       "    </tr>\n",
       "    <tr>\n",
       "      <th>4</th>\n",
       "      <td>5</td>\n",
       "      <td>Greenwich V</td>\n",
       "      <td>ChIJ1-hkimEW2jERyc5cKHfC3Sw</td>\n",
       "      <td>1.387371</td>\n",
       "      <td>103.869407</td>\n",
       "      <td>9VP9+WQ Singapore</td>\n",
       "      <td>3.8</td>\n",
       "      <td>1304</td>\n",
       "      <td>OPERATIONAL</td>\n",
       "      <td>shopping_mall</td>\n",
       "      <td>1 Seletar Rd, Singapore 807011</td>\n",
       "      <td>0</td>\n",
       "      <td>0</td>\n",
       "      <td>120670</td>\n",
       "      <td>0</td>\n",
       "      <td>3.0</td>\n",
       "    </tr>\n",
       "    <tr>\n",
       "      <th>...</th>\n",
       "      <td>...</td>\n",
       "      <td>...</td>\n",
       "      <td>...</td>\n",
       "      <td>...</td>\n",
       "      <td>...</td>\n",
       "      <td>...</td>\n",
       "      <td>...</td>\n",
       "      <td>...</td>\n",
       "      <td>...</td>\n",
       "      <td>...</td>\n",
       "      <td>...</td>\n",
       "      <td>...</td>\n",
       "      <td>...</td>\n",
       "      <td>...</td>\n",
       "      <td>...</td>\n",
       "      <td>...</td>\n",
       "    </tr>\n",
       "    <tr>\n",
       "      <th>300</th>\n",
       "      <td>326</td>\n",
       "      <td>The Atrium</td>\n",
       "      <td>ChIJy4WXYL0Z2jERbg8hQW40fYs</td>\n",
       "      <td>1.299595</td>\n",
       "      <td>103.845817</td>\n",
       "      <td>7RXW+R8 Singapore</td>\n",
       "      <td>4.2</td>\n",
       "      <td>138</td>\n",
       "      <td>OPERATIONAL</td>\n",
       "      <td>shopping_mall</td>\n",
       "      <td>60A Orchard Rd, Singapore 238890</td>\n",
       "      <td>2</td>\n",
       "      <td>5</td>\n",
       "      <td>380</td>\n",
       "      <td>0</td>\n",
       "      <td>2.0</td>\n",
       "    </tr>\n",
       "    <tr>\n",
       "      <th>301</th>\n",
       "      <td>327</td>\n",
       "      <td>Compass One</td>\n",
       "      <td>ChIJy5hMcg8X2jERZ88iA4l4aBY</td>\n",
       "      <td>1.392434</td>\n",
       "      <td>103.895412</td>\n",
       "      <td>9VRW+X5 Singapore</td>\n",
       "      <td>4.1</td>\n",
       "      <td>6943</td>\n",
       "      <td>OPERATIONAL</td>\n",
       "      <td>shopping_mall</td>\n",
       "      <td>1 Sengkang Square, Singapore 545078</td>\n",
       "      <td>0</td>\n",
       "      <td>1</td>\n",
       "      <td>206680</td>\n",
       "      <td>0</td>\n",
       "      <td>4.0</td>\n",
       "    </tr>\n",
       "    <tr>\n",
       "      <th>302</th>\n",
       "      <td>328</td>\n",
       "      <td>Havelock 2</td>\n",
       "      <td>ChIJyQ8DgWIZ2jERJyuRh581sco</td>\n",
       "      <td>1.287184</td>\n",
       "      <td>103.845137</td>\n",
       "      <td>7RPW+V3 Singapore</td>\n",
       "      <td>3.7</td>\n",
       "      <td>138</td>\n",
       "      <td>OPERATIONAL</td>\n",
       "      <td>shopping_mall</td>\n",
       "      <td>2 Havelock Rd, Singapore 059763</td>\n",
       "      <td>11</td>\n",
       "      <td>12</td>\n",
       "      <td>2720</td>\n",
       "      <td>0</td>\n",
       "      <td>2.0</td>\n",
       "    </tr>\n",
       "    <tr>\n",
       "      <th>303</th>\n",
       "      <td>329</td>\n",
       "      <td>KAP Mall</td>\n",
       "      <td>ChIJyWSEZTMX2jERY7_UfsKdFhI</td>\n",
       "      <td>1.336998</td>\n",
       "      <td>103.779553</td>\n",
       "      <td>8QPH+QR Singapore</td>\n",
       "      <td>4.0</td>\n",
       "      <td>72</td>\n",
       "      <td>OPERATIONAL</td>\n",
       "      <td>shopping_mall</td>\n",
       "      <td>9 King Albert Park, Singapore</td>\n",
       "      <td>0</td>\n",
       "      <td>2</td>\n",
       "      <td>74470</td>\n",
       "      <td>0</td>\n",
       "      <td>2.0</td>\n",
       "    </tr>\n",
       "    <tr>\n",
       "      <th>304</th>\n",
       "      <td>330</td>\n",
       "      <td>Paya Lebar Square</td>\n",
       "      <td>ChIJzxwZERgY2jER2FX37qmG49Q</td>\n",
       "      <td>1.318754</td>\n",
       "      <td>103.892568</td>\n",
       "      <td>8V9V+G2 Singapore</td>\n",
       "      <td>4.2</td>\n",
       "      <td>2289</td>\n",
       "      <td>OPERATIONAL</td>\n",
       "      <td>shopping_mall</td>\n",
       "      <td>60 Paya Lebar Rd, Singapore 409051</td>\n",
       "      <td>10</td>\n",
       "      <td>4</td>\n",
       "      <td>116960</td>\n",
       "      <td>0</td>\n",
       "      <td>3.0</td>\n",
       "    </tr>\n",
       "  </tbody>\n",
       "</table>\n",
       "<p>305 rows × 16 columns</p>\n",
       "</div>"
      ],
      "text/plain": [
       "     Unnamed: 0                 place_name                     place_ID  \\\n",
       "0             1             Orchard Towers  ChIJ-z0z0IwZ2jERXjOtNGbV0-0   \n",
       "1             2              Quayside Isle  ChIJ01fgzLUe2jERxlhvImcbZ7g   \n",
       "2             3  Coronation Shopping Plaza  ChIJ08duKAYa2jER47-5U4ZdgAo   \n",
       "3             4                  Hougang 1  ChIJ0ZkQLVsW2jERY9DgZurtpl8   \n",
       "4             5                Greenwich V  ChIJ1-hkimEW2jERyc5cKHfC3Sw   \n",
       "..          ...                        ...                          ...   \n",
       "300         326                 The Atrium  ChIJy4WXYL0Z2jERbg8hQW40fYs   \n",
       "301         327                Compass One  ChIJy5hMcg8X2jERZ88iA4l4aBY   \n",
       "302         328                 Havelock 2  ChIJyQ8DgWIZ2jERJyuRh581sco   \n",
       "303         329                   KAP Mall  ChIJyWSEZTMX2jERY7_UfsKdFhI   \n",
       "304         330          Paya Lebar Square  ChIJzxwZERgY2jER2FX37qmG49Q   \n",
       "\n",
       "     latitude   Longitude          plus_code  rating  user_ratings_total  \\\n",
       "0    1.307229  103.829332  8R4H+VP Singapore     3.9                2292   \n",
       "1    1.247681  103.842072  6RXR+3R Singapore     4.3                 568   \n",
       "2    1.323919  103.809989  8RF5+HX Singapore     3.6                 202   \n",
       "3    1.376061  103.879155  9VGH+CM Singapore     3.9                2183   \n",
       "4    1.387371  103.869407  9VP9+WQ Singapore     3.8                1304   \n",
       "..        ...         ...                ...     ...                 ...   \n",
       "300  1.299595  103.845817  7RXW+R8 Singapore     4.2                 138   \n",
       "301  1.392434  103.895412  9VRW+X5 Singapore     4.1                6943   \n",
       "302  1.287184  103.845137  7RPW+V3 Singapore     3.7                 138   \n",
       "303  1.336998  103.779553  8QPH+QR Singapore     4.0                  72   \n",
       "304  1.318754  103.892568  8V9V+G2 Singapore     4.2                2289   \n",
       "\n",
       "    business_status          types                                address  \\\n",
       "0       OPERATIONAL  shopping_mall       400 Orchard Rd, Singapore 238875   \n",
       "1       OPERATIONAL  shopping_mall         31 Ocean Way, Singapore 098375   \n",
       "2       OPERATIONAL  shopping_mall   587 Bukit Timah Rd, Singapore 269707   \n",
       "3       OPERATIONAL  shopping_mall  1 Hougang Street 91, Singapore 538692   \n",
       "4       OPERATIONAL  shopping_mall         1 Seletar Rd, Singapore 807011   \n",
       "..              ...            ...                                    ...   \n",
       "300     OPERATIONAL  shopping_mall       60A Orchard Rd, Singapore 238890   \n",
       "301     OPERATIONAL  shopping_mall    1 Sengkang Square, Singapore 545078   \n",
       "302     OPERATIONAL  shopping_mall        2 Havelock Rd, Singapore 059763   \n",
       "303     OPERATIONAL  shopping_mall          9 King Albert Park, Singapore   \n",
       "304     OPERATIONAL  shopping_mall     60 Paya Lebar Rd, Singapore 409051   \n",
       "\n",
       "     num_bus  num_mall  population  qid  relevance  \n",
       "0          1        13         920    0        3.0  \n",
       "1          1         0        1480    0        3.0  \n",
       "2          3         4       74470    0        2.0  \n",
       "3          0         0      222310    0        3.0  \n",
       "4          0         0      120670    0        3.0  \n",
       "..       ...       ...         ...  ...        ...  \n",
       "300        2         5         380    0        2.0  \n",
       "301        0         1      206680    0        4.0  \n",
       "302       11        12        2720    0        2.0  \n",
       "303        0         2       74470    0        2.0  \n",
       "304       10         4      116960    0        3.0  \n",
       "\n",
       "[305 rows x 16 columns]"
      ]
     },
     "execution_count": 71,
     "metadata": {},
     "output_type": "execute_result"
    }
   ],
   "source": [
    "shopping_mall"
   ]
  },
  {
   "cell_type": "code",
   "execution_count": 12,
   "metadata": {
    "ExecuteTime": {
     "end_time": "2020-10-27T01:33:29.304546Z",
     "start_time": "2020-10-27T01:33:29.165889Z"
    }
   },
   "outputs": [
    {
     "name": "stderr",
     "output_type": "stream",
     "text": [
      "<ipython-input-11-5ac9b8ed2632>:14: SettingWithCopyWarning: \n",
      "A value is trying to be set on a copy of a slice from a DataFrame\n",
      "\n",
      "See the caveats in the documentation: https://pandas.pydata.org/pandas-docs/stable/user_guide/indexing.html#returning-a-view-versus-a-copy\n",
      "  dataframe['relevance'][i] = 1\n",
      "<ipython-input-11-5ac9b8ed2632>:16: SettingWithCopyWarning: \n",
      "A value is trying to be set on a copy of a slice from a DataFrame\n",
      "\n",
      "See the caveats in the documentation: https://pandas.pydata.org/pandas-docs/stable/user_guide/indexing.html#returning-a-view-versus-a-copy\n",
      "  dataframe['relevance'][i] = 2\n",
      "<ipython-input-11-5ac9b8ed2632>:7: SettingWithCopyWarning: \n",
      "A value is trying to be set on a copy of a slice from a DataFrame\n",
      "\n",
      "See the caveats in the documentation: https://pandas.pydata.org/pandas-docs/stable/user_guide/indexing.html#returning-a-view-versus-a-copy\n",
      "  dataframe['relevance'][i] = 1\n",
      "<ipython-input-11-5ac9b8ed2632>:5: SettingWithCopyWarning: \n",
      "A value is trying to be set on a copy of a slice from a DataFrame\n",
      "\n",
      "See the caveats in the documentation: https://pandas.pydata.org/pandas-docs/stable/user_guide/indexing.html#returning-a-view-versus-a-copy\n",
      "  dataframe['relevance'][i] = 0\n",
      "<ipython-input-11-5ac9b8ed2632>:9: SettingWithCopyWarning: \n",
      "A value is trying to be set on a copy of a slice from a DataFrame\n",
      "\n",
      "See the caveats in the documentation: https://pandas.pydata.org/pandas-docs/stable/user_guide/indexing.html#returning-a-view-versus-a-copy\n",
      "  dataframe['relevance'][i] = 2\n",
      "<ipython-input-11-5ac9b8ed2632>:12: SettingWithCopyWarning: \n",
      "A value is trying to be set on a copy of a slice from a DataFrame\n",
      "\n",
      "See the caveats in the documentation: https://pandas.pydata.org/pandas-docs/stable/user_guide/indexing.html#returning-a-view-versus-a-copy\n",
      "  dataframe['relevance'][i] = 0\n"
     ]
    }
   ],
   "source": [
    "# compute_relevance(shopping_mall)\n",
    "# compute_relevance(hotel)\n",
    "# compute_relevance(hospital)"
   ]
  },
  {
   "cell_type": "code",
   "execution_count": 13,
   "metadata": {
    "ExecuteTime": {
     "end_time": "2020-10-27T01:33:30.738014Z",
     "start_time": "2020-10-27T01:33:30.728044Z"
    }
   },
   "outputs": [
    {
     "name": "stdout",
     "output_type": "stream",
     "text": [
      "<class 'pandas.core.frame.DataFrame'>\n",
      "RangeIndex: 450 entries, 0 to 449\n",
      "Data columns (total 16 columns):\n",
      " #   Column              Non-Null Count  Dtype  \n",
      "---  ------              --------------  -----  \n",
      " 0   place_name          450 non-null    object \n",
      " 1   place_ID            450 non-null    object \n",
      " 2   latitude            450 non-null    float64\n",
      " 3   Longitude           450 non-null    float64\n",
      " 4   plus_code           450 non-null    object \n",
      " 5   rating              450 non-null    float64\n",
      " 6   user_ratings_total  450 non-null    int64  \n",
      " 7   business_status     450 non-null    object \n",
      " 8   types               450 non-null    object \n",
      " 9   address             450 non-null    object \n",
      " 10  region              450 non-null    object \n",
      " 11  num_bus_stop        450 non-null    int64  \n",
      " 12  num_hospital        450 non-null    int64  \n",
      " 13  population          450 non-null    int64  \n",
      " 14  qid                 450 non-null    int64  \n",
      " 15  relevance           450 non-null    int64  \n",
      "dtypes: float64(3), int64(6), object(7)\n",
      "memory usage: 56.4+ KB\n"
     ]
    }
   ],
   "source": [
    "hospital.info()"
   ]
  },
  {
   "cell_type": "code",
   "execution_count": 72,
   "metadata": {
    "ExecuteTime": {
     "end_time": "2020-10-28T08:04:07.995986Z",
     "start_time": "2020-10-28T08:04:07.990030Z"
    }
   },
   "outputs": [],
   "source": [
    "shopping_mall = shopping_mall[\n",
    "    ['relevance', 'qid', 'latitude', 'Longitude', 'population', 'num_bus', 'num_mall']\n",
    "    ]"
   ]
  },
  {
   "cell_type": "code",
   "execution_count": 73,
   "metadata": {
    "ExecuteTime": {
     "end_time": "2020-10-28T08:04:08.439155Z",
     "start_time": "2020-10-28T08:04:08.432185Z"
    }
   },
   "outputs": [],
   "source": [
    "hotel = hotel[\n",
    "    ['relevance', 'qid', 'latitude', 'Longitude', 'population', 'num_bus', 'num_hotel']\n",
    "    ]"
   ]
  },
  {
   "cell_type": "code",
   "execution_count": 74,
   "metadata": {
    "ExecuteTime": {
     "end_time": "2020-10-28T08:04:08.803054Z",
     "start_time": "2020-10-28T08:04:08.796072Z"
    }
   },
   "outputs": [],
   "source": [
    "hospital = hospital[\n",
    "    ['relevance', 'qid', 'latitude', 'Longitude', 'population', 'num_bus_stop', 'num_hospital']\n",
    "    ]"
   ]
  },
  {
   "cell_type": "code",
   "execution_count": 75,
   "metadata": {
    "ExecuteTime": {
     "end_time": "2020-10-28T08:04:47.877432Z",
     "start_time": "2020-10-28T08:04:47.870490Z"
    }
   },
   "outputs": [
    {
     "name": "stderr",
     "output_type": "stream",
     "text": [
      "E:\\Anaconda\\lib\\site-packages\\pandas\\core\\frame.py:4125: SettingWithCopyWarning: \n",
      "A value is trying to be set on a copy of a slice from a DataFrame\n",
      "\n",
      "See the caveats in the documentation: https://pandas.pydata.org/pandas-docs/stable/user_guide/indexing.html#returning-a-view-versus-a-copy\n",
      "  return super().rename(\n"
     ]
    }
   ],
   "source": [
    "shopping_mall.rename(columns={'num_mall':'competition', 'Longitude':'longitude'}, inplace=True)\n",
    "hotel.rename(columns={'num_hotel':'competition','Longitude':'longitude'}, inplace=True)\n",
    "hospital.rename(columns={'num_hospital':'competition', 'Longitude':'longitude'}, inplace=True)"
   ]
  },
  {
   "cell_type": "code",
   "execution_count": 76,
   "metadata": {
    "ExecuteTime": {
     "end_time": "2020-10-28T08:04:50.837891Z",
     "start_time": "2020-10-28T08:04:50.820968Z"
    }
   },
   "outputs": [
    {
     "data": {
      "text/html": [
       "<div>\n",
       "<style scoped>\n",
       "    .dataframe tbody tr th:only-of-type {\n",
       "        vertical-align: middle;\n",
       "    }\n",
       "\n",
       "    .dataframe tbody tr th {\n",
       "        vertical-align: top;\n",
       "    }\n",
       "\n",
       "    .dataframe thead th {\n",
       "        text-align: right;\n",
       "    }\n",
       "</style>\n",
       "<table border=\"1\" class=\"dataframe\">\n",
       "  <thead>\n",
       "    <tr style=\"text-align: right;\">\n",
       "      <th></th>\n",
       "      <th>relevance</th>\n",
       "      <th>qid</th>\n",
       "      <th>latitude</th>\n",
       "      <th>longitude</th>\n",
       "      <th>population</th>\n",
       "      <th>num_bus</th>\n",
       "      <th>competition</th>\n",
       "    </tr>\n",
       "  </thead>\n",
       "  <tbody>\n",
       "    <tr>\n",
       "      <th>0</th>\n",
       "      <td>3.0</td>\n",
       "      <td>0</td>\n",
       "      <td>1.307229</td>\n",
       "      <td>103.829332</td>\n",
       "      <td>920</td>\n",
       "      <td>1</td>\n",
       "      <td>13</td>\n",
       "    </tr>\n",
       "    <tr>\n",
       "      <th>1</th>\n",
       "      <td>3.0</td>\n",
       "      <td>0</td>\n",
       "      <td>1.247681</td>\n",
       "      <td>103.842072</td>\n",
       "      <td>1480</td>\n",
       "      <td>1</td>\n",
       "      <td>0</td>\n",
       "    </tr>\n",
       "    <tr>\n",
       "      <th>2</th>\n",
       "      <td>2.0</td>\n",
       "      <td>0</td>\n",
       "      <td>1.323919</td>\n",
       "      <td>103.809989</td>\n",
       "      <td>74470</td>\n",
       "      <td>3</td>\n",
       "      <td>4</td>\n",
       "    </tr>\n",
       "    <tr>\n",
       "      <th>3</th>\n",
       "      <td>3.0</td>\n",
       "      <td>0</td>\n",
       "      <td>1.376061</td>\n",
       "      <td>103.879155</td>\n",
       "      <td>222310</td>\n",
       "      <td>0</td>\n",
       "      <td>0</td>\n",
       "    </tr>\n",
       "    <tr>\n",
       "      <th>4</th>\n",
       "      <td>3.0</td>\n",
       "      <td>0</td>\n",
       "      <td>1.387371</td>\n",
       "      <td>103.869407</td>\n",
       "      <td>120670</td>\n",
       "      <td>0</td>\n",
       "      <td>0</td>\n",
       "    </tr>\n",
       "    <tr>\n",
       "      <th>...</th>\n",
       "      <td>...</td>\n",
       "      <td>...</td>\n",
       "      <td>...</td>\n",
       "      <td>...</td>\n",
       "      <td>...</td>\n",
       "      <td>...</td>\n",
       "      <td>...</td>\n",
       "    </tr>\n",
       "    <tr>\n",
       "      <th>300</th>\n",
       "      <td>2.0</td>\n",
       "      <td>0</td>\n",
       "      <td>1.299595</td>\n",
       "      <td>103.845817</td>\n",
       "      <td>380</td>\n",
       "      <td>2</td>\n",
       "      <td>5</td>\n",
       "    </tr>\n",
       "    <tr>\n",
       "      <th>301</th>\n",
       "      <td>4.0</td>\n",
       "      <td>0</td>\n",
       "      <td>1.392434</td>\n",
       "      <td>103.895412</td>\n",
       "      <td>206680</td>\n",
       "      <td>0</td>\n",
       "      <td>1</td>\n",
       "    </tr>\n",
       "    <tr>\n",
       "      <th>302</th>\n",
       "      <td>2.0</td>\n",
       "      <td>0</td>\n",
       "      <td>1.287184</td>\n",
       "      <td>103.845137</td>\n",
       "      <td>2720</td>\n",
       "      <td>11</td>\n",
       "      <td>12</td>\n",
       "    </tr>\n",
       "    <tr>\n",
       "      <th>303</th>\n",
       "      <td>2.0</td>\n",
       "      <td>0</td>\n",
       "      <td>1.336998</td>\n",
       "      <td>103.779553</td>\n",
       "      <td>74470</td>\n",
       "      <td>0</td>\n",
       "      <td>2</td>\n",
       "    </tr>\n",
       "    <tr>\n",
       "      <th>304</th>\n",
       "      <td>3.0</td>\n",
       "      <td>0</td>\n",
       "      <td>1.318754</td>\n",
       "      <td>103.892568</td>\n",
       "      <td>116960</td>\n",
       "      <td>10</td>\n",
       "      <td>4</td>\n",
       "    </tr>\n",
       "  </tbody>\n",
       "</table>\n",
       "<p>305 rows × 7 columns</p>\n",
       "</div>"
      ],
      "text/plain": [
       "     relevance  qid  latitude   longitude  population  num_bus  competition\n",
       "0          3.0    0  1.307229  103.829332         920        1           13\n",
       "1          3.0    0  1.247681  103.842072        1480        1            0\n",
       "2          2.0    0  1.323919  103.809989       74470        3            4\n",
       "3          3.0    0  1.376061  103.879155      222310        0            0\n",
       "4          3.0    0  1.387371  103.869407      120670        0            0\n",
       "..         ...  ...       ...         ...         ...      ...          ...\n",
       "300        2.0    0  1.299595  103.845817         380        2            5\n",
       "301        4.0    0  1.392434  103.895412      206680        0            1\n",
       "302        2.0    0  1.287184  103.845137        2720       11           12\n",
       "303        2.0    0  1.336998  103.779553       74470        0            2\n",
       "304        3.0    0  1.318754  103.892568      116960       10            4\n",
       "\n",
       "[305 rows x 7 columns]"
      ]
     },
     "execution_count": 76,
     "metadata": {},
     "output_type": "execute_result"
    }
   ],
   "source": [
    "shopping_mall"
   ]
  },
  {
   "cell_type": "code",
   "execution_count": 77,
   "metadata": {
    "ExecuteTime": {
     "end_time": "2020-10-28T08:05:00.604349Z",
     "start_time": "2020-10-28T08:05:00.478847Z"
    }
   },
   "outputs": [],
   "source": [
    "shopping_mall.to_csv('mall2.csv')"
   ]
  },
  {
   "cell_type": "code",
   "execution_count": 22,
   "metadata": {
    "ExecuteTime": {
     "end_time": "2020-10-24T12:30:05.235953Z",
     "start_time": "2020-10-24T12:30:00.068898Z"
    }
   },
   "outputs": [],
   "source": [
    "# split the dataset into 80:20\n",
    "# from sklearn.model_selection import train_test_split\n",
    "# shopping_mall_train, shopping_mall_test = train_test_split(shopping_mall, test_size=0.2)\n",
    "# hotel_train, hotel_test = train_test_split(hotel, test_size=0.2)\n",
    "# hospital_train, hospital_test = train_test_split(hospital, test_size=0.2)"
   ]
  },
  {
   "cell_type": "code",
   "execution_count": 23,
   "metadata": {
    "ExecuteTime": {
     "end_time": "2020-10-24T12:30:05.327618Z",
     "start_time": "2020-10-24T12:30:05.310632Z"
    }
   },
   "outputs": [
    {
     "data": {
      "text/html": [
       "<div>\n",
       "<style scoped>\n",
       "    .dataframe tbody tr th:only-of-type {\n",
       "        vertical-align: middle;\n",
       "    }\n",
       "\n",
       "    .dataframe tbody tr th {\n",
       "        vertical-align: top;\n",
       "    }\n",
       "\n",
       "    .dataframe thead th {\n",
       "        text-align: right;\n",
       "    }\n",
       "</style>\n",
       "<table border=\"1\" class=\"dataframe\">\n",
       "  <thead>\n",
       "    <tr style=\"text-align: right;\">\n",
       "      <th></th>\n",
       "      <th>relevance</th>\n",
       "      <th>qid</th>\n",
       "      <th>latitude</th>\n",
       "      <th>Longitude</th>\n",
       "      <th>population</th>\n",
       "      <th>num_bus</th>\n",
       "      <th>competition</th>\n",
       "    </tr>\n",
       "  </thead>\n",
       "  <tbody>\n",
       "    <tr>\n",
       "      <th>39</th>\n",
       "      <td>3.900</td>\n",
       "      <td>0</td>\n",
       "      <td>1.300395</td>\n",
       "      <td>103.850927</td>\n",
       "      <td>14590</td>\n",
       "      <td>5</td>\n",
       "      <td>13</td>\n",
       "    </tr>\n",
       "    <tr>\n",
       "      <th>266</th>\n",
       "      <td>2.870</td>\n",
       "      <td>0</td>\n",
       "      <td>1.292500</td>\n",
       "      <td>103.786428</td>\n",
       "      <td>98050</td>\n",
       "      <td>9</td>\n",
       "      <td>0</td>\n",
       "    </tr>\n",
       "    <tr>\n",
       "      <th>156</th>\n",
       "      <td>3.900</td>\n",
       "      <td>0</td>\n",
       "      <td>1.331846</td>\n",
       "      <td>103.946350</td>\n",
       "      <td>289750</td>\n",
       "      <td>0</td>\n",
       "      <td>1</td>\n",
       "    </tr>\n",
       "    <tr>\n",
       "      <th>118</th>\n",
       "      <td>4.100</td>\n",
       "      <td>0</td>\n",
       "      <td>1.319882</td>\n",
       "      <td>103.843945</td>\n",
       "      <td>47990</td>\n",
       "      <td>11</td>\n",
       "      <td>5</td>\n",
       "    </tr>\n",
       "    <tr>\n",
       "      <th>302</th>\n",
       "      <td>3.700</td>\n",
       "      <td>0</td>\n",
       "      <td>1.287184</td>\n",
       "      <td>103.845137</td>\n",
       "      <td>2720</td>\n",
       "      <td>11</td>\n",
       "      <td>12</td>\n",
       "    </tr>\n",
       "    <tr>\n",
       "      <th>...</th>\n",
       "      <td>...</td>\n",
       "      <td>...</td>\n",
       "      <td>...</td>\n",
       "      <td>...</td>\n",
       "      <td>...</td>\n",
       "      <td>...</td>\n",
       "      <td>...</td>\n",
       "    </tr>\n",
       "    <tr>\n",
       "      <th>58</th>\n",
       "      <td>3.800</td>\n",
       "      <td>0</td>\n",
       "      <td>1.300602</td>\n",
       "      <td>103.842068</td>\n",
       "      <td>920</td>\n",
       "      <td>6</td>\n",
       "      <td>12</td>\n",
       "    </tr>\n",
       "    <tr>\n",
       "      <th>30</th>\n",
       "      <td>3.485</td>\n",
       "      <td>0</td>\n",
       "      <td>1.301502</td>\n",
       "      <td>103.837844</td>\n",
       "      <td>920</td>\n",
       "      <td>11</td>\n",
       "      <td>19</td>\n",
       "    </tr>\n",
       "    <tr>\n",
       "      <th>175</th>\n",
       "      <td>4.100</td>\n",
       "      <td>0</td>\n",
       "      <td>1.433502</td>\n",
       "      <td>103.779882</td>\n",
       "      <td>250290</td>\n",
       "      <td>0</td>\n",
       "      <td>0</td>\n",
       "    </tr>\n",
       "    <tr>\n",
       "      <th>214</th>\n",
       "      <td>3.900</td>\n",
       "      <td>0</td>\n",
       "      <td>1.324931</td>\n",
       "      <td>103.932381</td>\n",
       "      <td>289750</td>\n",
       "      <td>3</td>\n",
       "      <td>3</td>\n",
       "    </tr>\n",
       "    <tr>\n",
       "      <th>48</th>\n",
       "      <td>2.870</td>\n",
       "      <td>0</td>\n",
       "      <td>1.306516</td>\n",
       "      <td>103.657640</td>\n",
       "      <td>100</td>\n",
       "      <td>7</td>\n",
       "      <td>0</td>\n",
       "    </tr>\n",
       "  </tbody>\n",
       "</table>\n",
       "<p>61 rows × 7 columns</p>\n",
       "</div>"
      ],
      "text/plain": [
       "     relevance  qid  latitude   Longitude  population  num_bus  competition\n",
       "39       3.900    0  1.300395  103.850927       14590        5           13\n",
       "266      2.870    0  1.292500  103.786428       98050        9            0\n",
       "156      3.900    0  1.331846  103.946350      289750        0            1\n",
       "118      4.100    0  1.319882  103.843945       47990       11            5\n",
       "302      3.700    0  1.287184  103.845137        2720       11           12\n",
       "..         ...  ...       ...         ...         ...      ...          ...\n",
       "58       3.800    0  1.300602  103.842068         920        6           12\n",
       "30       3.485    0  1.301502  103.837844         920       11           19\n",
       "175      4.100    0  1.433502  103.779882      250290        0            0\n",
       "214      3.900    0  1.324931  103.932381      289750        3            3\n",
       "48       2.870    0  1.306516  103.657640         100        7            0\n",
       "\n",
       "[61 rows x 7 columns]"
      ]
     },
     "execution_count": 23,
     "metadata": {},
     "output_type": "execute_result"
    }
   ],
   "source": [
    "# shopping_mall_test"
   ]
  },
  {
   "cell_type": "code",
   "execution_count": 29,
   "metadata": {
    "ExecuteTime": {
     "end_time": "2020-10-21T05:34:20.172277Z",
     "start_time": "2020-10-21T05:34:20.164324Z"
    }
   },
   "outputs": [],
   "source": [
    "# l2r_train = pd.concat([shopping_mall_train, hotel_train, hospital_train])\n",
    "# l2r_test = pd.concat([shopping_mall_test, hotel_test, hospital_test])"
   ]
  },
  {
   "cell_type": "code",
   "execution_count": 31,
   "metadata": {
    "ExecuteTime": {
     "end_time": "2020-10-21T05:34:31.277602Z",
     "start_time": "2020-10-21T05:34:31.256704Z"
    }
   },
   "outputs": [
    {
     "data": {
      "text/html": [
       "<div>\n",
       "<style scoped>\n",
       "    .dataframe tbody tr th:only-of-type {\n",
       "        vertical-align: middle;\n",
       "    }\n",
       "\n",
       "    .dataframe tbody tr th {\n",
       "        vertical-align: top;\n",
       "    }\n",
       "\n",
       "    .dataframe thead th {\n",
       "        text-align: right;\n",
       "    }\n",
       "</style>\n",
       "<table border=\"1\" class=\"dataframe\">\n",
       "  <thead>\n",
       "    <tr style=\"text-align: right;\">\n",
       "      <th></th>\n",
       "      <th>relevance</th>\n",
       "      <th>qid</th>\n",
       "      <th>latitude</th>\n",
       "      <th>Longitude</th>\n",
       "      <th>population</th>\n",
       "      <th>num_bus_stop</th>\n",
       "      <th>competition</th>\n",
       "    </tr>\n",
       "  </thead>\n",
       "  <tbody>\n",
       "    <tr>\n",
       "      <th>164</th>\n",
       "      <td>3.80</td>\n",
       "      <td>0</td>\n",
       "      <td>1.301694</td>\n",
       "      <td>103.853284</td>\n",
       "      <td>14590</td>\n",
       "      <td>10</td>\n",
       "      <td>14</td>\n",
       "    </tr>\n",
       "    <tr>\n",
       "      <th>213</th>\n",
       "      <td>2.38</td>\n",
       "      <td>0</td>\n",
       "      <td>1.352493</td>\n",
       "      <td>103.943803</td>\n",
       "      <td>261230</td>\n",
       "      <td>0</td>\n",
       "      <td>7</td>\n",
       "    </tr>\n",
       "    <tr>\n",
       "      <th>146</th>\n",
       "      <td>1.33</td>\n",
       "      <td>0</td>\n",
       "      <td>1.284078</td>\n",
       "      <td>103.851325</td>\n",
       "      <td>3720</td>\n",
       "      <td>20</td>\n",
       "      <td>9</td>\n",
       "    </tr>\n",
       "    <tr>\n",
       "      <th>22</th>\n",
       "      <td>3.90</td>\n",
       "      <td>0</td>\n",
       "      <td>1.348891</td>\n",
       "      <td>103.697630</td>\n",
       "      <td>272660</td>\n",
       "      <td>9</td>\n",
       "      <td>0</td>\n",
       "    </tr>\n",
       "    <tr>\n",
       "      <th>121</th>\n",
       "      <td>4.10</td>\n",
       "      <td>0</td>\n",
       "      <td>1.331333</td>\n",
       "      <td>103.948580</td>\n",
       "      <td>289750</td>\n",
       "      <td>0</td>\n",
       "      <td>2</td>\n",
       "    </tr>\n",
       "    <tr>\n",
       "      <th>...</th>\n",
       "      <td>...</td>\n",
       "      <td>...</td>\n",
       "      <td>...</td>\n",
       "      <td>...</td>\n",
       "      <td>...</td>\n",
       "      <td>...</td>\n",
       "      <td>...</td>\n",
       "    </tr>\n",
       "    <tr>\n",
       "      <th>309</th>\n",
       "      <td>1.89</td>\n",
       "      <td>2</td>\n",
       "      <td>1.309796</td>\n",
       "      <td>103.864179</td>\n",
       "      <td>101210</td>\n",
       "      <td>5</td>\n",
       "      <td>1</td>\n",
       "    </tr>\n",
       "    <tr>\n",
       "      <th>210</th>\n",
       "      <td>2.59</td>\n",
       "      <td>2</td>\n",
       "      <td>1.333143</td>\n",
       "      <td>103.878744</td>\n",
       "      <td>124940</td>\n",
       "      <td>0</td>\n",
       "      <td>0</td>\n",
       "    </tr>\n",
       "    <tr>\n",
       "      <th>249</th>\n",
       "      <td>1.40</td>\n",
       "      <td>2</td>\n",
       "      <td>1.321230</td>\n",
       "      <td>103.846164</td>\n",
       "      <td>47990</td>\n",
       "      <td>7</td>\n",
       "      <td>19</td>\n",
       "    </tr>\n",
       "    <tr>\n",
       "      <th>189</th>\n",
       "      <td>0.00</td>\n",
       "      <td>2</td>\n",
       "      <td>1.379906</td>\n",
       "      <td>103.748276</td>\n",
       "      <td>174330</td>\n",
       "      <td>5</td>\n",
       "      <td>2</td>\n",
       "    </tr>\n",
       "    <tr>\n",
       "      <th>390</th>\n",
       "      <td>0.00</td>\n",
       "      <td>2</td>\n",
       "      <td>1.315125</td>\n",
       "      <td>103.908871</td>\n",
       "      <td>289750</td>\n",
       "      <td>0</td>\n",
       "      <td>7</td>\n",
       "    </tr>\n",
       "  </tbody>\n",
       "</table>\n",
       "<p>236 rows × 7 columns</p>\n",
       "</div>"
      ],
      "text/plain": [
       "     relevance  qid  latitude   Longitude  population  num_bus_stop  \\\n",
       "164       3.80    0  1.301694  103.853284       14590            10   \n",
       "213       2.38    0  1.352493  103.943803      261230             0   \n",
       "146       1.33    0  1.284078  103.851325        3720            20   \n",
       "22        3.90    0  1.348891  103.697630      272660             9   \n",
       "121       4.10    0  1.331333  103.948580      289750             0   \n",
       "..         ...  ...       ...         ...         ...           ...   \n",
       "309       1.89    2  1.309796  103.864179      101210             5   \n",
       "210       2.59    2  1.333143  103.878744      124940             0   \n",
       "249       1.40    2  1.321230  103.846164       47990             7   \n",
       "189       0.00    2  1.379906  103.748276      174330             5   \n",
       "390       0.00    2  1.315125  103.908871      289750             0   \n",
       "\n",
       "     competition  \n",
       "164           14  \n",
       "213            7  \n",
       "146            9  \n",
       "22             0  \n",
       "121            2  \n",
       "..           ...  \n",
       "309            1  \n",
       "210            0  \n",
       "249           19  \n",
       "189            2  \n",
       "390            7  \n",
       "\n",
       "[236 rows x 7 columns]"
      ]
     },
     "execution_count": 31,
     "metadata": {},
     "output_type": "execute_result"
    }
   ],
   "source": [
    "# l2r_test"
   ]
  },
  {
   "cell_type": "code",
   "execution_count": 24,
   "metadata": {
    "ExecuteTime": {
     "end_time": "2020-10-24T12:30:19.335472Z",
     "start_time": "2020-10-24T12:30:19.330516Z"
    }
   },
   "outputs": [],
   "source": [
    "# shopping_mall_train = shopping_mall_train.to_numpy()\n",
    "# shopping_mall_test = shopping_mall_test.to_numpy()\n"
   ]
  },
  {
   "cell_type": "code",
   "execution_count": 26,
   "metadata": {
    "ExecuteTime": {
     "end_time": "2020-10-24T12:30:22.994742Z",
     "start_time": "2020-10-24T12:30:22.988781Z"
    }
   },
   "outputs": [],
   "source": [
    "# shopping_mall_train_max = np.max(shopping_mall_train[:,2:], axis = 0)\n",
    "# shopping_mall_test_max = np.max(shopping_mall_test[:,2:], axis = 0)\n",
    "# shopping_mall_train_min = np.min(shopping_mall_train[:,2:], axis = 0)\n",
    "# shopping_mall_test_min = np.min(shopping_mall_test[:,2:], axis = 0)\n",
    "# shopping_mall_train[:,2:] = (shopping_mall_train[:,2:] - shopping_mall_train_min)/(shopping_mall_train_max - shopping_mall_train_min)\n",
    "# shopping_mall_test[:,2:] = (shopping_mall_test[:,2:] - shopping_mall_test_min)/(shopping_mall_test_max - shopping_mall_test_min)\n",
    "# np.save('hotel_train', shopping_mall_train_min_train)\n",
    "# np.save('hotel_test', shopping_mall_train_min_test)"
   ]
  },
  {
   "cell_type": "code",
   "execution_count": 29,
   "metadata": {
    "ExecuteTime": {
     "end_time": "2020-10-24T12:31:24.097868Z",
     "start_time": "2020-10-24T12:31:24.091881Z"
    }
   },
   "outputs": [
    {
     "data": {
      "text/plain": [
       "array([1.45372800e+00, 1.03989759e+02, 2.89750000e+05, 1.70000000e+01,\n",
       "       2.00000000e+01])"
      ]
     },
     "execution_count": 29,
     "metadata": {},
     "output_type": "execute_result"
    }
   ],
   "source": [
    "# shopping_mall_train_max"
   ]
  },
  {
   "cell_type": "code",
   "execution_count": 32,
   "metadata": {
    "ExecuteTime": {
     "end_time": "2020-10-21T05:35:05.704088Z",
     "start_time": "2020-10-21T05:35:05.696110Z"
    }
   },
   "outputs": [],
   "source": [
    "# convert dataframe to numpy\n",
    "# l2r_train = l2r_train.to_numpy()\n",
    "# l2r_test = l2r_test.to_numpy()"
   ]
  },
  {
   "cell_type": "code",
   "execution_count": 30,
   "metadata": {
    "ExecuteTime": {
     "end_time": "2020-10-24T12:31:40.989767Z",
     "start_time": "2020-10-24T12:31:40.982814Z"
    }
   },
   "outputs": [
    {
     "name": "stdout",
     "output_type": "stream",
     "text": [
      "Size of training set: (244, 7)\n",
      "Size of test set: (61, 7)\n"
     ]
    }
   ],
   "source": [
    "# print('Size of training set:', shopping_mall_train.shape)\n",
    "# print('Size of test set:', shopping_mall_test.shape)"
   ]
  },
  {
   "cell_type": "code",
   "execution_count": 35,
   "metadata": {
    "ExecuteTime": {
     "end_time": "2020-10-21T05:35:59.574321Z",
     "start_time": "2020-10-21T05:35:59.569303Z"
    }
   },
   "outputs": [
    {
     "data": {
      "text/plain": [
       "array([[3.0100000e+00, 0.0000000e+00, 1.3920241e+00, ..., 2.0668000e+05,\n",
       "        1.0000000e+01, 1.0000000e+00],\n",
       "       [3.7000000e+00, 0.0000000e+00, 1.3551225e+00, ..., 2.2231000e+05,\n",
       "        1.0000000e+01, 0.0000000e+00],\n",
       "       [3.8000000e+00, 0.0000000e+00, 1.2921679e+00, ..., 2.7200000e+03,\n",
       "        1.9000000e+01, 1.0000000e+00],\n",
       "       ...,\n",
       "       [0.0000000e+00, 2.0000000e+00, 1.3926519e+00, ..., 2.0668000e+05,\n",
       "        0.0000000e+00, 2.0000000e+00],\n",
       "       [0.0000000e+00, 2.0000000e+00, 1.2749455e+00, ..., 3.7200000e+03,\n",
       "        6.0000000e+00, 5.0000000e+00],\n",
       "       [0.0000000e+00, 2.0000000e+00, 1.3055915e+00, ..., 6.9200000e+03,\n",
       "        8.0000000e+00, 4.5000000e+01]])"
      ]
     },
     "execution_count": 35,
     "metadata": {},
     "output_type": "execute_result"
    }
   ],
   "source": [
    "# l2r_train"
   ]
  },
  {
   "cell_type": "code",
   "execution_count": 36,
   "metadata": {
    "ExecuteTime": {
     "end_time": "2020-10-21T05:36:29.286605Z",
     "start_time": "2020-10-21T05:36:29.281618Z"
    }
   },
   "outputs": [],
   "source": [
    "# mean_train = np.mean(l2r_train[:,2:], axis = 0)\n",
    "# mean_test = np.mean(l2r_test[:,2:], axis = 0)"
   ]
  },
  {
   "cell_type": "code",
   "execution_count": 37,
   "metadata": {
    "ExecuteTime": {
     "end_time": "2020-10-21T05:37:40.084934Z",
     "start_time": "2020-10-21T05:37:40.080973Z"
    }
   },
   "outputs": [],
   "source": [
    "# std_train = np.std(l2r_train[:,2:], axis = 0)\n",
    "# std_test = np.std(l2r_test[:,2:], axis = 0)"
   ]
  },
  {
   "cell_type": "code",
   "execution_count": 38,
   "metadata": {
    "ExecuteTime": {
     "end_time": "2020-10-21T05:38:33.611471Z",
     "start_time": "2020-10-21T05:38:33.605487Z"
    }
   },
   "outputs": [],
   "source": [
    "# normalization\n",
    "# (value-mean)/std\n",
    "# l2r_train[:,2:] = (l2r_train[:,2:] - mean_train)/std_train\n",
    "# l2r_test[:,2:] = (l2r_test[:,2:] - mean_test)/std_test"
   ]
  },
  {
   "cell_type": "code",
   "execution_count": 40,
   "metadata": {
    "ExecuteTime": {
     "end_time": "2020-10-21T05:39:11.225929Z",
     "start_time": "2020-10-21T05:39:11.220946Z"
    }
   },
   "outputs": [
    {
     "data": {
      "text/plain": [
       "array([[ 3.8       ,  0.        , -0.49171326, ..., -0.83012633,\n",
       "         0.58662579,  0.23611748],\n",
       "       [ 2.38      ,  0.        ,  0.85375024, ...,  1.98915411,\n",
       "        -0.96717541, -0.29171212],\n",
       "       [ 1.33      ,  0.        , -0.95830002, ..., -0.95437859,\n",
       "         2.140427  , -0.14090367],\n",
       "       ...,\n",
       "       [ 1.4       ,  2.        ,  0.02571647, ..., -0.44833924,\n",
       "         0.12048543,  0.61313863],\n",
       "       [ 0.        ,  2.        ,  1.57982527, ...,  0.99582185,\n",
       "        -0.19027481, -0.66873327],\n",
       "       [ 0.        ,  2.        , -0.13596873, ...,  2.31515913,\n",
       "        -0.96717541, -0.29171212]])"
      ]
     },
     "execution_count": 40,
     "metadata": {},
     "output_type": "execute_result"
    }
   ],
   "source": [
    "# l2r_test"
   ]
  },
  {
   "cell_type": "code",
   "execution_count": 42,
   "metadata": {
    "ExecuteTime": {
     "end_time": "2020-10-21T05:41:01.657931Z",
     "start_time": "2020-10-21T05:41:01.642309Z"
    }
   },
   "outputs": [
    {
     "data": {
      "text/plain": [
       "array([3.8  , 2.38 , 1.33 , 3.9  , 4.1  , 3.9  , 4.   , 3.485, 4.2  ,\n",
       "       4.   , 2.17 , 3.8  , 2.52 , 2.8  , 4.1  , 2.45 , 4.1  , 4.2  ,\n",
       "       2.73 , 4.   , 3.7  , 4.3  , 3.315, 4.   , 3.4  , 3.9  , 4.4  ,\n",
       "       3.9  , 4.2  , 4.2  , 3.29 , 3.7  , 4.   , 3.6  , 4.   , 2.8  ,\n",
       "       4.3  , 3.9  , 4.2  , 3.4  , 1.19 , 4.3  , 3.8  , 4.2  , 2.87 ,\n",
       "       3.9  , 3.315, 3.36 , 4.3  , 3.8  , 3.9  , 3.485, 3.5  , 3.8  ,\n",
       "       3.7  , 3.8  , 4.3  , 3.8  , 4.4  , 3.7  , 2.87 , 4.1  , 4.5  ,\n",
       "       0.   , 4.5  , 4.6  , 0.   , 3.6  , 4.4  , 4.3  , 3.7  , 2.89 ,\n",
       "       3.5  , 4.3  , 2.59 , 3.9  , 3.6  , 3.6  , 4.5  , 3.4  , 4.3  ,\n",
       "       3.1  , 4.   , 2.8  , 2.59 , 2.87 , 3.7  , 4.4  , 2.94 , 0.   ,\n",
       "       4.4  , 2.52 , 3.8  , 4.6  , 3.6  , 4.6  , 3.9  , 2.87 , 3.7  ,\n",
       "       0.   , 4.3  , 4.1  , 3.8  , 2.52 , 3.7  , 2.59 , 2.8  , 4.1  ,\n",
       "       3.7  , 2.59 , 2.66 , 2.31 , 4.4  , 3.4  , 3.485, 2.94 , 3.9  ,\n",
       "       3.9  , 4.3  , 0.   , 3.8  , 4.3  , 0.   , 4.   , 2.45 , 3.5  ,\n",
       "       3.9  , 4.4  , 2.52 , 4.5  , 4.6  , 3.23 , 2.73 , 3.2  , 3.655,\n",
       "       3.5  , 2.31 , 3.8  , 3.7  , 3.6  , 3.655, 4.2  , 3.9  , 3.7  ,\n",
       "       3.7  , 3.9  , 0.   , 0.   , 1.82 , 2.03 , 4.08 , 2.03 , 3.15 ,\n",
       "       2.8  , 0.   , 0.   , 0.   , 0.   , 2.66 , 3.15 , 3.5  , 0.   ,\n",
       "       3.5  , 0.   , 0.   , 3.01 , 0.   , 0.   , 3.5  , 2.24 , 0.   ,\n",
       "       1.61 , 0.   , 2.24 , 3.5  , 3.5  , 1.5  , 0.   , 0.   , 3.57 ,\n",
       "       0.   , 2.8  , 0.   , 0.   , 2.24 , 2.45 , 2.8  , 0.   , 3.5  ,\n",
       "       3.5  , 2.52 , 0.   , 3.08 , 2.59 , 0.   , 1.4  , 0.   , 0.   ,\n",
       "       0.   , 0.   , 3.5  , 0.   , 2.52 , 0.   , 0.   , 3.3  , 2.1  ,\n",
       "       3.5  , 3.29 , 0.   , 0.   , 2.805, 0.   , 0.   , 0.   , 1.4  ,\n",
       "       3.01 , 0.   , 2.52 , 0.   , 0.   , 2.1  , 0.   , 0.   , 0.   ,\n",
       "       0.   , 3.01 , 2.1  , 0.   , 2.72 , 2.87 , 1.89 , 2.59 , 1.4  ,\n",
       "       0.   , 0.   ])"
      ]
     },
     "execution_count": 42,
     "metadata": {},
     "output_type": "execute_result"
    }
   ],
   "source": [
    "# l2r_test[:,0]"
   ]
  },
  {
   "cell_type": "code",
   "execution_count": 32,
   "metadata": {
    "ExecuteTime": {
     "end_time": "2020-10-24T12:33:08.136950Z",
     "start_time": "2020-10-24T12:33:08.126979Z"
    }
   },
   "outputs": [],
   "source": [
    "# save dataset to npy\n",
    "# np.save('shop_train', shopping_mall_train)\n",
    "# np.save('shop_test', shopping_mall_test)"
   ]
  },
  {
   "cell_type": "code",
   "execution_count": null,
   "metadata": {},
   "outputs": [],
   "source": []
  }
 ],
 "metadata": {
  "hide_input": false,
  "kernelspec": {
   "display_name": "Python 3",
   "language": "python",
   "name": "python3"
  },
  "language_info": {
   "codemirror_mode": {
    "name": "ipython",
    "version": 3
   },
   "file_extension": ".py",
   "mimetype": "text/x-python",
   "name": "python",
   "nbconvert_exporter": "python",
   "pygments_lexer": "ipython3",
   "version": "3.8.3"
  },
  "varInspector": {
   "cols": {
    "lenName": 16,
    "lenType": 16,
    "lenVar": 40
   },
   "kernels_config": {
    "python": {
     "delete_cmd_postfix": "",
     "delete_cmd_prefix": "del ",
     "library": "var_list.py",
     "varRefreshCmd": "print(var_dic_list())"
    },
    "r": {
     "delete_cmd_postfix": ") ",
     "delete_cmd_prefix": "rm(",
     "library": "var_list.r",
     "varRefreshCmd": "cat(var_dic_list()) "
    }
   },
   "types_to_exclude": [
    "module",
    "function",
    "builtin_function_or_method",
    "instance",
    "_Feature"
   ],
   "window_display": false
  }
 },
 "nbformat": 4,
 "nbformat_minor": 4
}
